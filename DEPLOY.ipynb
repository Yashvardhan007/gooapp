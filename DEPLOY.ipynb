{
  "nbformat": 4,
  "nbformat_minor": 0,
  "metadata": {
    "accelerator": "GPU",
    "colab": {
      "name": "DEPLOY",
      "provenance": [],
      "authorship_tag": "ABX9TyOABBegPYWBx4XsyN2VLQYQ",
      "include_colab_link": true
    },
    "kernelspec": {
      "display_name": "Python 3",
      "name": "python3"
    }
  },
  "cells": [
    {
      "cell_type": "markdown",
      "metadata": {
        "id": "view-in-github",
        "colab_type": "text"
      },
      "source": [
        "<a href=\"https://colab.research.google.com/github/Yashvardhan007/gooapp/blob/master/DEPLOY.ipynb\" target=\"_parent\"><img src=\"https://colab.research.google.com/assets/colab-badge.svg\" alt=\"Open In Colab\"/></a>"
      ]
    },
    {
      "cell_type": "code",
      "metadata": {
        "id": "YlmVHtc_95SZ"
      },
      "source": [
        "%%capture\r\n",
        "# !kaggle datasets download -d rachit07rawat/test1-data-las\r\n",
        "# !unzip -qq /content/test1-data-las.zip -d 'test1-data-las'\r\n",
        "!pip install lasio\r\n",
        "!pip install welly\r\n",
        "!pip install catboost"
      ],
      "execution_count": null,
      "outputs": []
    },
    {
      "cell_type": "code",
      "metadata": {
        "id": "ADdl-tnz8xkn"
      },
      "source": [
        "import numpy as np \r\n",
        "import pandas as pd \r\n",
        "\r\n",
        "import os\r\n",
        "import csv\r\n",
        "import matplotlib.pyplot as plt\r\n",
        "import shutil\r\n",
        "\r\n",
        "import collections\r\n",
        "import welly\r\n",
        "from welly import Well\r\n",
        "from welly import Project\r\n",
        "\r\n",
        "import lasio \r\n",
        "from tqdm.notebook import tqdm\r\n",
        "from random import randint\r\n",
        "import seaborn as sns\r\n",
        "from sklearn.model_selection import train_test_split\r\n",
        "import xgboost as xg\r\n",
        "from sklearn import preprocessing\r\n",
        "from sklearn.preprocessing import StandardScaler\r\n",
        "from catboost import CatBoostRegressor\r\n",
        "from sklearn.kernel_ridge import KernelRidge\r\n",
        "from sklearn.model_selection import RandomizedSearchCV, KFold\r\n",
        "from sklearn.linear_model import LinearRegression, Ridge, Lasso, BayesianRidge, SGDRegressor\r\n",
        "from sklearn.model_selection import GridSearchCV\r\n",
        "from sklearn.svm import SVR\r\n",
        "from sklearn.neural_network import MLPRegressor\r\n",
        "\r\n",
        "from sklearn.metrics import mean_squared_error as MSE\r\n",
        "from scipy import stats\r\n",
        "\r\n",
        "import time\r\n",
        "import warnings\r\n",
        "from google.colab import drive\r\n",
        "warnings.filterwarnings('ignore')"
      ],
      "execution_count": null,
      "outputs": []
    },
    {
      "cell_type": "code",
      "metadata": {
        "id": "tCXIli7U-J6D"
      },
      "source": [
        "#use gdown to upload train data here"
      ],
      "execution_count": null,
      "outputs": []
    },
    {
      "cell_type": "markdown",
      "metadata": {
        "id": "dHWVqjSi-WQi"
      },
      "source": [
        "DEPLOY FROM HERE"
      ]
    },
    {
      "cell_type": "code",
      "metadata": {
        "colab": {
          "base_uri": "https://localhost:8080/"
        },
        "id": "irqNPlG59G0z",
        "outputId": "df05f87e-9ab4-45ec-ea9d-e32ff3358c8c"
      },
      "source": [
        "from fnmatch import fnmatch\r\n",
        "\r\n",
        "root = '/content/wellF'\r\n",
        "root1 = '/content/'\r\n",
        "pattern = \"*.las\"\r\n",
        "list_path_F = []\r\n",
        "list_name_F = []\r\n",
        "\r\n",
        "for path, subdirs, files in os.walk(root):\r\n",
        "    for name in files:\r\n",
        "        if fnmatch(name, pattern):\r\n",
        "            a = os.path.join(path, name)\r\n",
        "            list_path_F.append(a)\r\n",
        "            list_name_F.append(name)\r\n",
        "print(len(list_name_F))\r\n",
        "print(len(list_path_F))\r\n",
        "print(root + '/*.las')"
      ],
      "execution_count": null,
      "outputs": [
        {
          "output_type": "stream",
          "text": [
            "142\n",
            "142\n",
            "/content/wellF/*.las\n"
          ],
          "name": "stdout"
        }
      ]
    },
    {
      "cell_type": "code",
      "metadata": {
        "colab": {
          "base_uri": "https://localhost:8080/"
        },
        "id": "Z651WUBA2yJv",
        "outputId": "9e5bb4e6-9a09-4e0e-e358-3d30d1ea431b"
      },
      "source": [
        "from fnmatch import fnmatch\r\n",
        "\r\n",
        "root = '/content/wellT'\r\n",
        "root1 = '/content/'\r\n",
        "pattern = \"*.las\"\r\n",
        "list_path_T = []\r\n",
        "list_name_T = []\r\n",
        "\r\n",
        "for path, subdirs, files in os.walk(root):\r\n",
        "    for name in files:\r\n",
        "        if fnmatch(name, pattern):\r\n",
        "            a = os.path.join(path, name)\r\n",
        "            list_path_T.append(a)\r\n",
        "            list_name_T.append(name)\r\n",
        "print(len(list_name_T))\r\n",
        "print(len(list_path_T))\r\n",
        "print(root + '/*.las')"
      ],
      "execution_count": null,
      "outputs": [
        {
          "output_type": "stream",
          "text": [
            "92\n",
            "92\n",
            "/content/wellT/*.las\n"
          ],
          "name": "stdout"
        }
      ]
    },
    {
      "cell_type": "code",
      "metadata": {
        "id": "2k8yCiA6cE-B"
      },
      "source": [
        "# dict \r\n",
        "alias_dict_F = dict()\r\n",
        "alias_dict_F['li_SH'] = ['AE10','AF10','AHT10','AT10','HLLS','HMIN','HMNO','LLS','LLS_R','LLS_R1','LLS_R2','MSFL','MSFL_R','RXO8','SFLU']\r\n",
        "alias_dict_F['li_DP'] =['AHT90', 'AF90', 'ILD', 'AT90', 'HRID', 'AE90', 'LLD_R1', 'LLD_R2', 'RT_HRLT', 'LLD', 'HLLD', 'LLD_R']\r\n",
        "alias_dict_F['li_MD'] = ['AE20','AE30','AF20','AHT20','AHT30','AT20','AT30','AO30','ILM','TBIT20','ILM','ILM_1','IMBC','IMPH','RXOZ','RXOZ_R','RXO_HRLT']\r\n",
        "alias_dict_F['li_RLA'] = ['RLA1','RLA2','RLA3','RLA4','RLA5']\r\n",
        "\r\n",
        "alias_dict_F['li_DEC'] = ['TNPH_LS_1', 'SPHI', 'SPHI_LS', 'NPOR_LS', 'DPHZ', 'DPHI_LS', 'ENPH_LS', 'DPHI', 'DPOR_LS', 'TNPH_LS','TPHI_LS', 'PORS_LS',\r\n",
        "                        'NPHI_LS', 'APLC_LS', 'PXND', 'DPO_LS', 'NPHI_LS_1', 'DPHZ_LS', 'PORZ_LS', 'TNPH', 'NPHI', 'SNP', 'CNPOR_LS', 'TNPH_LIM']\r\n",
        "alias_dict_F['li_USF'] =  ['DTS', 'DT4ST', 'DT4SR', 'DT4PR', 'DT4PT', 'DT1', 'DTC', 'DT4S', 'DTCO_1', 'DTSH', 'DT1T', 'DT4P', 'DTTS', 'DTX', \r\n",
        "                         'DTRS', 'DTY', 'DTRP', 'DT1R', 'DT', 'DT2R', 'DTTP', 'DTLN','DTLF','DTCO','DTL','DTST','DT2']               \r\n",
        "alias_dict_F['li_GAPI'] = ['HGRT', 'GRD_1', 'HCGR', 'GRS1', 'GRD1', 'CGRD', 'GRC', 'HCGRR', 'CGRR', 'SGRR', 'GRN', 'HSGR', 'SGRD', \r\n",
        "                         'CGRS', 'GR_EDTC', 'HSGRR', 'SGRDD', 'SGR', 'ECGRS', 'GRR', 'GRD', 'CGR', 'SGRS', 'GRR_R', 'HSGRS', \r\n",
        "                         'GRR_R2', 'GR', 'HCGRS', 'HCGRD', 'GRR_R1', 'HSGRD', 'ECGREDTC','CALSR', 'CALX', 'CAL1R', 'LCALR', 'HD2', 'HCALS', 'HCAL', 'HD1', 'C1', 'HD', 'HD1_PPC1', 'LCALD', 'HCAL_2', 'CALD', 'CAL1R_R',\r\n",
        "                       'CALS', 'HDS', 'HCALD', 'C2', 'CALSR_R', 'HD2_PPC2', 'HCALR', 'CALI', 'DCAL', 'HD2_PPC1', 'HCAL_1', 'LCAL', 'CALR', 'LCAL_1']\r\n",
        "alias_dict_F['li_BE'] = ['PEFL', 'PEFZ', 'PE', 'PEF']\r\n",
        "alias_dict_F['li_MV'] = ['SPR']\r\n",
        "alias_dict_F['li_LBF'] = ['TENT', 'TEND_1', 'TEND1', 'TEN', 'TENS1', 'TENR_R', 'LTEN', 'TENR_R2', 'TENS', 'TEND', 'TENR', 'TENR_R1']"
      ],
      "execution_count": null,
      "outputs": []
    },
    {
      "cell_type": "code",
      "metadata": {
        "id": "lqSHGuRqgIqN"
      },
      "source": [
        "# New dict \r\n",
        "\r\n",
        "# False dict\r\n",
        "alias_dict_F = dict()\r\n",
        "\r\n",
        "\r\n",
        "alias_dict_F['li_DEC_D'] = ['DPHZ', 'DPHI_LS', 'DPHI', 'DPOR_LS', 'DPO_LS', 'DPHZ_LS'] # from density\r\n",
        "alias_dict_F['li_DEC_N'] = ['NPOR_LS', 'ENPH_LS', 'NPHI_LS', 'APLC_LS', 'NPHI_LS_1', 'NPHI', 'SNP'] # from Neutron\r\n",
        "alias_dict_F['li_DEC_T'] = ['TNPH_LS_1', 'TNPH_LS', 'TPHI_LS', 'TNPH', 'CNPOR_LS', 'TNPH_LIM'] # thermal\r\n",
        "alias_dict_F['li_DEC_S'] = ['SPHI', 'SPHI_LS'] # sonic\r\n",
        "alias_dict_F['li_DEC_NOR'] = ['PORS_LS', 'PXND', 'PORZ_LS'] # normal\r\n",
        "\r\n",
        "alias_dict_F['li_USF_S'] = ['DTS', 'DT4ST', 'DT4SR', 'DT1', 'DT4S', 'DTSH', 'DT1T', 'DTTS', 'DTRS', 'DT1R', 'DT2R', 'DTST', 'DT2'] # shear\r\n",
        "alias_dict_F['li_USF_P'] = ['DTCO','DT4PR', 'DT4PT', 'DTCO_1', 'DT4P', 'DTTP'] # compressional\r\n",
        "alias_dict_F['li_USF_LO'] = ['DTC', 'DT', 'DTLN', 'DTLF', 'DTL'] # long spacing \r\n",
        "\r\n",
        "\r\n",
        "alias_dict_F['li_GAPI_D'] = ['GRD1', 'CGRD', 'GRD', 'HCGRD', 'HSGRD'] # density\r\n",
        "alias_dict_F['li_GAPI_R'] = ['HCGRR', 'CGRR', 'GRR', 'GRR_R', 'GRR_R2', 'GRR_R1'] # Resistivity\r\n",
        "alias_dict_F['li_GAPI_S'] = ['GRS1', 'CGRS', 'ECGRS', 'HSGRS', 'HCGRS'] # Sonic\r\n",
        "alias_dict_F['li_GAPI_N'] = ['HGRT', 'GRC', 'GR_EDTC', 'GR', 'ECGREDTC', 'GRT'] # Normal\r\n",
        "alias_dict_F['li_GAPI_SPEC'] = ['SGRR', 'HSGR', 'SGRD', 'SGRDD', 'SGR', 'SGRS'] # spectroscopy\r\n",
        "\r\n",
        "alias_dict_F['li_IN_D'] = ['LCALD', 'CALD', 'CALI', 'LCAL', 'LCAL_1'] # density\r\n",
        "alias_dict_F['li_IN_R'] = ['CALSR', 'CAL1R', 'CAL1R_R', 'CALSR_R', 'CALR'] # resistivity\r\n",
        "alias_dict_F['li_IN_HILT'] = ['HCALS', 'HCAL', 'HCAL_2', 'HCALD', 'HCALR', 'HCAL_1'] # hilt\r\n",
        "#alias_dict_F['li_IN_HD'] = ['HD2', 'HD1', 'HD', 'HD1_PPC1', 'HDS', 'HD2_PPC2', 'HD2_PPC1'] # hd\r\n",
        "alias_dict_F['li_IN_N'] = ['CALX', 'C1', 'C2', 'DCAL'] # normal\r\n",
        "\r\n",
        "alias_dict_F['li_SH'] = ['AE10','AF10','AHT10','AT10','HLLS','HMIN','HMNO','LLS','LLS_R','LLS_R1','LLS_R2','MSFL','MSFL_R','RXO8','SFLU']\r\n",
        "alias_dict_F['li_DP'] =['AHT90', 'AF90', 'ILD', 'AT90', 'HRID', 'AE90', 'LLD_R1', 'LLD_R2', 'RT_HRLT', 'LLD', 'HLLD', 'LLD_R']\r\n",
        "alias_dict_F['li_MD'] = ['AE20','AE30','AF20','AHT20','AHT30','AT20','AT30','AO30','ILM','TBIT20','ILM','ILM_1','IMBC','IMPH','RXOZ','RXOZ_R','RXO_HRLT']\r\n",
        "alias_dict_F['li_RLA'] = ['RLA1','RLA2','RLA3','RLA4','RLA5']\r\n",
        "\r\n",
        "alias_dict_F['li_BE'] = ['PEFL', 'PEFZ', 'PE', 'PEF']\r\n",
        "\r\n",
        "alias_dict_F['li_MV'] = ['SPR']\r\n",
        "\r\n",
        "alias_dict_F['li_LBF_D'] = ['TEND_1', 'TEND1', 'TEND'] # density\r\n",
        "alias_dict_F['li_LBF_R'] = ['TENR_R', 'TENR_R', 'TENR_R2', 'TENR', 'TENR_R1'] # resistivity\r\n",
        "alias_dict_F['li_LBF_S'] = ['TENS1', 'LTEN', 'TENS'] # sonic\r\n",
        "alias_dict_F['li_LBF_N'] = ['TENT', 'TEN'] # normal\r\n",
        "\r\n",
        "\r\n",
        "alias_F = {\"DTSM\" :['DTSM'],\r\n",
        "         \"DEC_D\"  : alias_dict_F['li_DEC_D'],\r\n",
        "         \"DEC_N\"  : alias_dict_F['li_DEC_N'],\r\n",
        "         \"DEC_T\"  : alias_dict_F['li_DEC_T'],\r\n",
        "         \"DEC_S\"  : alias_dict_F['li_DEC_S'],\r\n",
        "         \"DEC_NOR\"  : alias_dict_F['li_DEC_NOR'],\r\n",
        "\r\n",
        "         \"USF_S\"  : alias_dict_F['li_USF_S'],\r\n",
        "         \"USF_P\"  : alias_dict_F['li_USF_P'],\r\n",
        "         \"USF_LO\"  : alias_dict_F['li_USF_LO'],\r\n",
        "\r\n",
        "         \"GAPI_D\" : alias_dict_F['li_GAPI_D'],\r\n",
        "         \"GAPI_R\" : alias_dict_F['li_GAPI_R'],\r\n",
        "         \"GAPI_S\" : alias_dict_F['li_GAPI_S'],\r\n",
        "         \"GAPI_N\" : alias_dict_F['li_GAPI_N'],\r\n",
        "         \"GAPI_SPEC\" : alias_dict_F['li_GAPI_SPEC'],\r\n",
        "\r\n",
        "         \"IN_D\"   : alias_dict_F['li_IN_D'],\r\n",
        "         \"IN_R\"   : alias_dict_F['li_IN_R'],\r\n",
        "         \"IN_HILT\"   : alias_dict_F['li_IN_HILT'],\r\n",
        "       #  \"IN_HD\"   : alias_dict_F['li_IN_HD'],\r\n",
        "         \"IN_N\"   : alias_dict_F['li_IN_N'],\r\n",
        "\r\n",
        "         \"MV\"   : alias_dict_F['li_MV'],\r\n",
        "\r\n",
        "         \"BE\"   : alias_dict_F['li_BE'],\r\n",
        "\r\n",
        "         \"LBF_D\"  : alias_dict_F['li_LBF_D'],\r\n",
        "         \"LBF_R\"  : alias_dict_F['li_LBF_R'],\r\n",
        "         \"LBF_S\"  : alias_dict_F['li_LBF_S'],\r\n",
        "         \"LBF_N\"  : alias_dict_F['li_LBF_N'],\r\n",
        "\r\n",
        "         \"SH\"   : alias_dict_F['li_SH'],\r\n",
        "         \"DP\"   : alias_dict_F['li_DP'], \r\n",
        "         \"RL\"   : alias_dict_F['li_RLA']\r\n",
        " }"
      ],
      "execution_count": null,
      "outputs": []
    },
    {
      "cell_type": "code",
      "metadata": {
        "id": "S1_AJ3Ht39v_"
      },
      "source": [
        "# dict \r\n",
        "alias_dict_T = dict()\r\n",
        "alias_dict_T['li_SH'] = ['AT10', 'AE10', 'AHT10', 'LLS', 'SFL', 'AST10']\r\n",
        "alias_dict_T['li_MD'] = ['AE20', 'IMBC', 'AF20','AE30', 'ILM_1', 'AST30', 'IMPH', 'AHT30','ILM', 'AHT20', 'TBIT20', 'TBIT30']\r\n",
        "alias_dict_T['li_DP'] = ['ILD1', 'ILD_1', 'AT90', 'AE90', 'AST90', 'LLD', 'ILD', 'AHT90', 'IDPH']\r\n",
        "alias_dict_T['li_SFL'] = ['SFLA', 'SFLU', 'SFLU', 'SFLU_1', 'RILD']\r\n",
        "alias_dict_T['li_RLA'] = ['RLA3', 'RLA1', 'RLA5']\r\n",
        "\r\n",
        "alias_dict_T['li_LBF'] = ['TEN', 'TEND', 'TENS', 'TENR']\r\n",
        "alias_dict_T['li_DEC'] = ['SPHI_SS','SPHI','TNPH_LS','SPHI_LS','NPHI','DPHZ2','NPOR','DPHZ_LS','NPHI_LS','NPOR_LS','NPHS','DPHI_LS',\r\n",
        "                      'PHND_LS','DPHI','DPOR','DPHI_SLDT','DPHZ','NPHI1','PORZ','DPO_LS','CNC','DPO']\r\n",
        "alias_dict_T['li_USF'] =  ['DT1','DTSM_SLOW','DTSM_FAST','DT4S','DTLF','DT4P','DTRS','DTRP','DTTP','DTC','DTCO_1','DTTS',\r\n",
        "                       'DTCO','DTS','DTMD','DTL','DTST','DT','DTOT','DTM']                \r\n",
        "alias_dict_T['li_GAPI'] = ['GRN','GR_EDTC','ECGRR','ECGR','ECGREDTC','GRD','GR_STGC','SGRD','ECGRD','ECGRS','GRR','SGR','CGR','GR']\r\n",
        "alias_dict_T['li_IN'] = ['HCAL2R','C1','HCAL_1','HCAL_2','LCAL','HCALD','C1S','HCALR','CALI','HCALS','CALI_SPCS','CALR','CALD','HCAL','LCALD','CALS']\r\n",
        "alias_dict_T['li_BE'] = ['PEF_SLDT', 'PE', 'PEFZ', 'PEF', 'PEFS', 'PEFL']\r\n",
        "alias_dict_T['li_MV'] = ['SPR']"
      ],
      "execution_count": null,
      "outputs": []
    },
    {
      "cell_type": "code",
      "metadata": {
        "id": "RM3TXcXkWs-Y"
      },
      "source": [
        "# True dict \r\n",
        "alias_dict_T = dict()\r\n",
        "alias_dict_T['li_SH'] = ['AT10', 'AE10', 'AHT10', 'LLS', 'SFL', 'AST10'] # shallow\r\n",
        "#alias_dict_T['li_MD'] = ['AE20', 'IMBC', 'AF20','AE30', 'ILM_1', 'AST30', 'IMPH', 'AHT30','ILM', 'AHT20', 'TBIT20', 'TBIT30'] # Medium\r\n",
        "alias_dict_T['li_DP'] = ['ILD1', 'ILD_1', 'AT90', 'AE90', 'AST90', 'LLD', 'ILD', 'AHT90', 'IDPH'] # deep\r\n",
        "alias_dict_T['li_SFL'] = ['SFLA', 'SFLU', 'SFLU', 'SFLU_1', 'RILD']\r\n",
        "#alias_dict_T['li_RLA'] = ['RLA3', 'RLA1', 'RLA5']\r\n",
        "\r\n",
        "alias_dict_T['li_DEC_NP'] = ['NPHI', 'NPOR', 'NPHI_LS', 'NPOR_LS', 'NPHS', 'NPHI1', 'CNC'] # Neutron\r\n",
        "alias_dict_T['li_DEC_DP'] = ['DPHZ2', 'DPHZ_LS', 'DPHI_LS', 'DPHI', 'DPOR', 'DPHI_SLDT', 'DPHZ', 'PORZ', 'DPO_LS', 'DPO'] # Density\r\n",
        "alias_dict_T['li_DEC_ST'] = ['SPHI_SS', 'SPHI', 'TNPH_LS', 'SPHI_LS'] # Sonic\r\n",
        "\r\n",
        "alias_dict_T['li_USF_S'] = ['DT1', 'DTSM_SLOW', 'DTSM_FAST', 'DT4S', 'DTRS', 'DTC', 'DTTS', 'DTS', 'DTMD', 'DTST', 'DT', 'DTOT', 'DTM'] # Shear\r\n",
        "alias_dict_T['li_USF_P'] = ['DT4P', 'DTRP', 'DTTP', 'DTC', 'DTCO_1', 'DTCO', 'DT'] # Compressional\r\n",
        "\r\n",
        "alias_dict_T['li_GAPI_D'] = ['GRD', 'SGRD', 'ECGRD', 'SGR'] # from Density\r\n",
        "alias_dict_T['li_GAPI_R']  = ['ECGRR', 'GRR'] # from resistivity\r\n",
        "alias_dict_T['li_GAPI_S'] = ['GRN', 'ECGRS'] # from sonic\r\n",
        "alias_dict_T['li_GAPI_N'] = ['GR_EDTC', 'GR_STGC', 'GR']  # normal Gamma API\r\n",
        "\r\n",
        "alias_dict_T['li_IN_D'] = ['C1', 'LCAL', 'CALI', 'CALD', 'LCALD'] # from density\r\n",
        "alias_dict_T['li_IN_R'] = ['CALI_SPCS', 'CALR'] # from resistivity\r\n",
        "alias_dict_T['li_IN_HILT'] =  ['HCAL2R', 'HCAL_1', 'HCAL_2', 'HCALD', 'HCALR', 'HCALS', 'HCAL'] # from HILT\r\n",
        " \r\n",
        "alias_dict_T['li_LB_D'] = ['TEND'] # from density\r\n",
        "alias_dict_T['li_LB_R'] = ['TENR'] # from Resistivity\r\n",
        "alias_dict_T['li_LB_S'] = ['TENS'] # from Sonic\r\n",
        "\r\n",
        "alias_dict_T['li_BE'] = ['PEF_SLDT', 'PE', 'PEFZ', 'PEF', 'PEFS', 'PEFL']\r\n",
        "\r\n",
        "alias_dict_T['li_MV'] = ['SPR']\r\n",
        "\r\n",
        "\r\n",
        "alias_T = {\"DTSM\" :['DTSM'],\r\n",
        "           \r\n",
        "         \"DEC_NP\"  : alias_dict_T['li_DEC_NP'],\r\n",
        "         \"DEC_DP\"  : alias_dict_T['li_DEC_DP'],\r\n",
        "         \"DEC_ST\"  : alias_dict_T['li_DEC_ST'],\r\n",
        "\r\n",
        "         \"USF_S\"  : alias_dict_T['li_USF_S'],\r\n",
        "         \"USF_P\"  : alias_dict_T['li_USF_P'],\r\n",
        "\r\n",
        "         \"GAPI_D\" : alias_dict_T['li_GAPI_D'],\r\n",
        "         \"GAPI_R\" : alias_dict_T['li_GAPI_R'],\r\n",
        "         \"GAPI_S\" : alias_dict_T['li_GAPI_S'],\r\n",
        "         \"GAPI_N\" : alias_dict_T['li_GAPI_N'],\r\n",
        "\r\n",
        "         \"IN_D\"   : alias_dict_T['li_IN_D'],\r\n",
        "         \"IN_R\"   : alias_dict_T['li_IN_R'],\r\n",
        "         \"IN_HILT\"   : alias_dict_T['li_IN_HILT'],\r\n",
        "\r\n",
        "         \"MV\"   : alias_dict_T['li_MV'],\r\n",
        "\r\n",
        "         \"BE\"   : alias_dict_T['li_BE'],\r\n",
        "\r\n",
        "         \"SH\"   : alias_dict_T['li_SH'],\r\n",
        "       #  \"MD\"   : alias_dict_T['li_MD'],\r\n",
        "         \"DP\"   : alias_dict_T['li_DP'],\r\n",
        "         \"SFL\"  : alias_dict_T['li_SFL'],\r\n",
        "        # \"RLA\"  : alias_dict_T['li_RLA'],\r\n",
        "         \"LB_D\"  : alias_dict_T['li_LB_D'],\r\n",
        "         \"LB_R\"  : alias_dict_T['li_LB_R'],\r\n",
        "         \"LB_S\"  : alias_dict_T['li_LB_S']\r\n",
        " }"
      ],
      "execution_count": null,
      "outputs": []
    },
    {
      "cell_type": "code",
      "metadata": {
        "id": "2zCivOpS9Qvc"
      },
      "source": [
        "alias_F = {\"DTSM\" :['DTSM'],\r\n",
        "         \"DEC\"  : alias_dict_F['li_DEC'],\r\n",
        "         \"USF\"  : alias_dict_F['li_USF'],\r\n",
        "         \"GAPI\" : alias_dict_F['li_GAPI'],\r\n",
        "         \"MV\"   : alias_dict_F['li_MV'],\r\n",
        "         \"BE\"   : alias_dict_F['li_BE'],\r\n",
        "         \"LBF\"  : alias_dict_F['li_LBF'],\r\n",
        "         \"SH\"   : alias_dict_F['li_SH'],\r\n",
        "         \"MD\"   : alias_dict_F['li_MD'],\r\n",
        "         \"DP\"   : alias_dict_F['li_DP'],\r\n",
        "         \"RL\"   : alias_dict_F['li_RLA']\r\n",
        " }"
      ],
      "execution_count": null,
      "outputs": []
    },
    {
      "cell_type": "code",
      "metadata": {
        "id": "NV_EZdzX4ISk",
        "colab": {
          "base_uri": "https://localhost:8080/",
          "height": 231
        },
        "outputId": "e9db2b53-6ed3-42e7-ad32-d503e4916988"
      },
      "source": [
        "alias_T = {\"DTSM\" :['DTSM'],\r\n",
        "         \"DEC\"  : alias_dict_T['li_DEC'],\r\n",
        "         \"USF\"  : alias_dict_T['li_USF'],\r\n",
        "         \"GAPI\" : alias_dict_T['li_GAPI'],\r\n",
        "         \"IN\"  : alias_dict_T['li_IN'],\r\n",
        "         \"MV\"   : alias_dict_T['li_MV'],\r\n",
        "         \"BE\"   : alias_dict_T['li_BE'],\r\n",
        "         \"SH\"   : alias_dict_T['li_SH'],\r\n",
        "         \"MD\"   : alias_dict_T['li_MD'],\r\n",
        "         \"DP\"   : alias_dict_T['li_DP'],\r\n",
        "         \"SFL\"  : alias_dict_T['li_SFL'],\r\n",
        "        #  \"RLA\"  : alias_dict_T['li_RLA'],\r\n",
        "        #  \"LBF\"  : alias_dict_T['li_LBF']\r\n",
        " }"
      ],
      "execution_count": null,
      "outputs": [
        {
          "output_type": "error",
          "ename": "NameError",
          "evalue": "ignored",
          "traceback": [
            "\u001b[0;31m---------------------------------------------------------------------------\u001b[0m",
            "\u001b[0;31mNameError\u001b[0m                                 Traceback (most recent call last)",
            "\u001b[0;32m<ipython-input-31-55c81c54ce2b>\u001b[0m in \u001b[0;36m<module>\u001b[0;34m()\u001b[0m\n\u001b[1;32m      1\u001b[0m alias_T = {\"DTSM\" :['DTSM'],\n\u001b[0;32m----> 2\u001b[0;31m          \u001b[0;34m\"DEC\"\u001b[0m  \u001b[0;34m:\u001b[0m \u001b[0malias_dict_T\u001b[0m\u001b[0;34m[\u001b[0m\u001b[0;34m'li_DEC'\u001b[0m\u001b[0;34m]\u001b[0m\u001b[0;34m,\u001b[0m\u001b[0;34m\u001b[0m\u001b[0;34m\u001b[0m\u001b[0m\n\u001b[0m\u001b[1;32m      3\u001b[0m          \u001b[0;34m\"USF\"\u001b[0m  \u001b[0;34m:\u001b[0m \u001b[0malias_dict_T\u001b[0m\u001b[0;34m[\u001b[0m\u001b[0;34m'li_USF'\u001b[0m\u001b[0;34m]\u001b[0m\u001b[0;34m,\u001b[0m\u001b[0;34m\u001b[0m\u001b[0;34m\u001b[0m\u001b[0m\n\u001b[1;32m      4\u001b[0m          \u001b[0;34m\"GAPI\"\u001b[0m \u001b[0;34m:\u001b[0m \u001b[0malias_dict_T\u001b[0m\u001b[0;34m[\u001b[0m\u001b[0;34m'li_GAPI'\u001b[0m\u001b[0;34m]\u001b[0m\u001b[0;34m,\u001b[0m\u001b[0;34m\u001b[0m\u001b[0;34m\u001b[0m\u001b[0m\n\u001b[1;32m      5\u001b[0m          \u001b[0;34m\"IN\"\u001b[0m  \u001b[0;34m:\u001b[0m \u001b[0malias_dict_T\u001b[0m\u001b[0;34m[\u001b[0m\u001b[0;34m'li_IN'\u001b[0m\u001b[0;34m]\u001b[0m\u001b[0;34m,\u001b[0m\u001b[0;34m\u001b[0m\u001b[0;34m\u001b[0m\u001b[0m\n",
            "\u001b[0;31mNameError\u001b[0m: name 'alias_dict_T' is not defined"
          ]
        }
      ]
    },
    {
      "cell_type": "code",
      "metadata": {
        "colab": {
          "base_uri": "https://localhost:8080/"
        },
        "id": "IIx1BUVN9mDq",
        "outputId": "cc0c5237-782a-41a2-e61a-effb943fcf24"
      },
      "source": [
        "for i in range(len(list_name_F)):\r\n",
        "  if list_name_F[i] == '07bda346ac4d_TGS.las' :   \r\n",
        "    print (i)  "
      ],
      "execution_count": null,
      "outputs": [
        {
          "output_type": "stream",
          "text": [
            "19\n"
          ],
          "name": "stdout"
        }
      ]
    },
    {
      "cell_type": "code",
      "metadata": {
        "colab": {
          "base_uri": "https://localhost:8080/"
        },
        "id": "U3AXfEUz5BO0",
        "outputId": "4a5fc020-a001-488d-9f5c-1459033cbbd2"
      },
      "source": [
        "for i in range(len(list_name_T)):\r\n",
        "  if list_name_T[i] == '19ed10214869_TGS.las' :\r\n",
        "    print(i)"
      ],
      "execution_count": null,
      "outputs": [
        {
          "output_type": "stream",
          "text": [
            "86\n"
          ],
          "name": "stdout"
        }
      ]
    },
    {
      "cell_type": "markdown",
      "metadata": {
        "id": "AvjxIDfVnQA0"
      },
      "source": [
        "start deploy"
      ]
    },
    {
      "cell_type": "code",
      "metadata": {
        "id": "Ub4zBAWQC9x_"
      },
      "source": [
        ""
      ],
      "execution_count": null,
      "outputs": []
    },
    {
      "cell_type": "code",
      "metadata": {
        "colab": {
          "base_uri": "https://localhost:8080/",
          "height": 248
        },
        "id": "-JBhL9AZgHE1",
        "outputId": "7afe8798-daee-4882-b257-f86f30393451"
      },
      "source": [
        "for i in [21]:\r\n",
        " # use gdown code to upload data\r\n",
        "  value = i\r\n",
        "  print(value)\r\n",
        "  print(list_name_F[value])\r\n",
        "  las = lasio.read(list_path_F[value])\r\n",
        "  dep = las.df()\r\n",
        "  dep = dep[dep['DTSM'].notna()]\r\n",
        "  X = lasio.read(list_path_F[value])\r\n",
        "  X.write(list_name_F[value])\r\n",
        "  os.remove(list_path_F[value])\r\n",
        "# Import module\r\n",
        " \r\n",
        " \r\n",
        "  p = Project.from_las(root +'/*.las')\r\n",
        "\r\n",
        "\r\n",
        "  list_key = []\r\n",
        "  for i in alias_F.keys():\r\n",
        "    list_key.append(i)\r\n",
        "\r\n",
        "  welldata = p.df(keys= list_key, alias=alias_F)\r\n",
        "  welldata.index = welldata.index.droplevel(0)\r\n",
        "  welldata = welldata[welldata['DTSM'].notna()]\r\n",
        " # welldata = welldata.sort_values(by = ['DTSM'])\r\n",
        "  welldata.info()\r\n",
        "  p_file = Project.from_las(root1 + list_name_F[value])\r\n",
        "\r\n",
        "  dep_data = p_file.df(keys= list_key, alias=alias_F)\r\n",
        "  dep_data = dep_data[dep_data['DTSM'].notna()]\r\n",
        "  #dep_data['DEPT'] = dep.index\r\n",
        "  dep_data.info()\r\n",
        "  dep_data = dep_data.dropna(axis = 1, how = 'all')\r\n",
        "\r\n",
        "  list_columns = []\r\n",
        "  for i in dep_data.columns:\r\n",
        "    list_columns.append(i)\r\n",
        "\r\n",
        "  dep_data_columns1 = list_columns.copy()\r\n",
        "  dep_data_columns1.remove('DTSM')\r\n",
        "\r\n",
        "  d = pd.DataFrame(welldata[list_columns], index = None)\r\n",
        "  d = d.dropna(thresh = (((len(dep_data_columns1)+2)//2 ))) \r\n",
        "  X = pd.DataFrame(d[dep_data_columns1], index = None)\r\n",
        "  Y = pd.DataFrame(d['DTSM'], index = None)\r\n",
        "  X.info()\r\n",
        "#catboost\r\n",
        "  train_x, test_x, train_y, test_y = train_test_split(X,Y,test_size=0.2)\r\n",
        "  cat = CatBoostRegressor(verbose = 0,learning_rate  = 0.01,\r\n",
        "                              task_type='GPU',\r\n",
        "                              iterations = 1500, depth = 8)\r\n",
        "  cat.fit(train_x,train_y)\r\n",
        "  pred = cat.predict(test_x)\r\n",
        "  rmse = np.sqrt(MSE(test_y,pred))\r\n",
        "  print(rmse)  \r\n",
        "  dep_X = pd.DataFrame(dep_data[dep_data_columns1])\r\n",
        "  target = pd.DataFrame(dep_data['DTSM'])\r\n",
        "  dep_pred_cat = cat.predict(dep_X)\r\n",
        "#xgb\r\n",
        "  train_x, test_x, train_y, test_y = train_test_split(X,Y,test_size=0.2)\r\n",
        "  xgb_r = xg.XGBRegressor(objective='reg:squarederror',\r\n",
        "                              tree_method = 'gpu_hist',\r\n",
        "                            n_estimators =1000,\r\n",
        "                            max_depth = 8)\r\n",
        "  xgb_r.fit(train_x,train_y)\r\n",
        "  pred = xgb_r.predict(test_x)\r\n",
        "  rmse = np.sqrt(MSE(test_y,pred))\r\n",
        "  print(rmse)\r\n",
        "  dep_X = pd.DataFrame(dep_data[dep_data_columns1])\r\n",
        "  target = pd.DataFrame(dep_data['DTSM'])\r\n",
        "  dep_pred_xgb = xgb_r.predict(dep_X)\r\n",
        "  print('CAT:',np.sqrt(MSE(target,dep_pred_cat)))\r\n",
        "  print('XGB:',np.sqrt(MSE(target,dep_pred_xgb)))\r\n",
        "  print('Ensemble:', np.sqrt(MSE(target,   (3*dep_pred_cat +  dep_pred_xgb)/4   )))"
      ],
      "execution_count": 2,
      "outputs": [
        {
          "output_type": "stream",
          "text": [
            "21\n"
          ],
          "name": "stdout"
        },
        {
          "output_type": "error",
          "ename": "NameError",
          "evalue": "ignored",
          "traceback": [
            "\u001b[0;31m---------------------------------------------------------------------------\u001b[0m",
            "\u001b[0;31mNameError\u001b[0m                                 Traceback (most recent call last)",
            "\u001b[0;32m<ipython-input-2-40025f782905>\u001b[0m in \u001b[0;36m<module>\u001b[0;34m()\u001b[0m\n\u001b[1;32m      3\u001b[0m   \u001b[0mvalue\u001b[0m \u001b[0;34m=\u001b[0m \u001b[0mi\u001b[0m\u001b[0;34m\u001b[0m\u001b[0;34m\u001b[0m\u001b[0m\n\u001b[1;32m      4\u001b[0m   \u001b[0mprint\u001b[0m\u001b[0;34m(\u001b[0m\u001b[0mvalue\u001b[0m\u001b[0;34m)\u001b[0m\u001b[0;34m\u001b[0m\u001b[0;34m\u001b[0m\u001b[0m\n\u001b[0;32m----> 5\u001b[0;31m   \u001b[0mprint\u001b[0m\u001b[0;34m(\u001b[0m\u001b[0mlist_name_F\u001b[0m\u001b[0;34m[\u001b[0m\u001b[0mvalue\u001b[0m\u001b[0;34m]\u001b[0m\u001b[0;34m)\u001b[0m\u001b[0;34m\u001b[0m\u001b[0;34m\u001b[0m\u001b[0m\n\u001b[0m\u001b[1;32m      6\u001b[0m   \u001b[0mlas\u001b[0m \u001b[0;34m=\u001b[0m \u001b[0mlasio\u001b[0m\u001b[0;34m.\u001b[0m\u001b[0mread\u001b[0m\u001b[0;34m(\u001b[0m\u001b[0mlist_path_F\u001b[0m\u001b[0;34m[\u001b[0m\u001b[0mvalue\u001b[0m\u001b[0;34m]\u001b[0m\u001b[0;34m)\u001b[0m\u001b[0;34m\u001b[0m\u001b[0;34m\u001b[0m\u001b[0m\n\u001b[1;32m      7\u001b[0m   \u001b[0mdep\u001b[0m \u001b[0;34m=\u001b[0m \u001b[0mlas\u001b[0m\u001b[0;34m.\u001b[0m\u001b[0mdf\u001b[0m\u001b[0;34m(\u001b[0m\u001b[0;34m)\u001b[0m\u001b[0;34m\u001b[0m\u001b[0;34m\u001b[0m\u001b[0m\n",
            "\u001b[0;31mNameError\u001b[0m: name 'list_name_F' is not defined"
          ]
        }
      ]
    },
    {
      "cell_type": "code",
      "metadata": {
        "colab": {
          "base_uri": "https://localhost:8080/",
          "height": 231
        },
        "id": "VUtPBcAN_EN2",
        "outputId": "56858977-8a92-490d-ee93-8eb4d4d7ff04"
      },
      "source": [
        "for i in range(20):\r\n",
        "   # use gdown code to upload data\r\n",
        "  value = randint(0,len(list_name_F))\r\n",
        "  print(value)\r\n",
        "  print(list_name_F[value])\r\n",
        " # las = lasio.read(list_path_F[value])\r\n",
        "  #dep = las.df()\r\n",
        "  #dep = dep[dep['DTSM'].notna()]\r\n",
        "  X = lasio.read(list_path_F[value])\r\n",
        "  X.write(list_name_F[value])\r\n",
        "  os.remove(list_path_F[value])\r\n",
        "# Import module\r\n",
        " \r\n",
        " \r\n",
        " # p = Project.from_las(root +'/*.las')\r\n",
        "  def wellydf( df, alias_dict ):\r\n",
        "\r\n",
        "    df2 = pd.DataFrame()\r\n",
        "    for alias, columns in alias_dict.items(): \r\n",
        "      for column in columns:\r\n",
        "        if column in df.columns.values:\r\n",
        "          df2[alias] = df[column]\r\n",
        "          break\r\n",
        "    return df2\r\n",
        "\r\n",
        "# making wellF data\r\n",
        "  folder_name = '/content/wellF'\r\n",
        "\r\n",
        "  x = pd.DataFrame()\r\n",
        "  files = os.listdir(folder_name)\r\n",
        "  deploy = []\r\n",
        "\r\n",
        "  for y in tqdm(files):\r\n",
        "    if y in deploy:\r\n",
        "      continue\r\n",
        "    temp = lasio.read( folder_name + '/' + y ).df()\r\n",
        "    z = wellydf( temp, alias_F )\r\n",
        "    z = z.reset_index(drop=True)\r\n",
        "    z['DEPT'] = temp.index\r\n",
        "    x = pd.concat([x,z], axis=0, ignore_index=True)\r\n",
        "\r\n",
        "  x = x[x['DTSM'].notna()]\r\n",
        "\r\n",
        "  list_key = []\r\n",
        "  for i in alias_F.keys():\r\n",
        "    list_key.append(i)\r\n",
        "\r\n",
        "  #welldata = p.df(keys= list_key, alias=alias_F)\r\n",
        "  #welldata.index = welldata.index.droplevel(0)\r\n",
        " # welldata = welldata[welldata['DTSM'].notna()]\r\n",
        "# welldata = welldata.sort_values(by = ['DTSM'])\r\n",
        " # welldata.info()\r\n",
        " # p_file = Project.from_las(root1 + list_name_F[value])\r\n",
        "\r\n",
        " # dep_data = p_file.df(keys= list_key, alias=alias_F)\r\n",
        " # dep_data = dep_data[dep_data['DTSM'].notna()]\r\n",
        "# dep_data['DEPT'] = dep.index\r\n",
        " # dep_data.info()\r\n",
        "  dep_data = dep_data.dropna(axis = 1, how = 'all')\r\n",
        "  def wellydf( df, alias_dict ):\r\n",
        "\r\n",
        "    df2 = pd.DataFrame()\r\n",
        "    for alias, columns in alias_dict.items(): \r\n",
        "      for column in columns:\r\n",
        "        if column in df.columns.values:\r\n",
        "          df2[alias] = df[column]\r\n",
        "          break\r\n",
        "    return df2\r\n",
        "\r\n",
        "  las = lasio.read(root1 + list_name_F[value])\r\n",
        "  dep = las.df()\r\n",
        "  print(\"DEP DATA INFO\")\r\n",
        "  dep.info()\r\n",
        "  dep_data = wellydf(dep, alias_F)\r\n",
        "  dep_data = dep_data[dep_data['DTSM'].notna()]\r\n",
        "  dep_data = dep_data.dropna(axis = 1, how = 'all')\r\n",
        "  \r\n",
        "\r\n",
        "  list_columns = []\r\n",
        "  for i in dep_data.columns:\r\n",
        "    list_columns.append(i)\r\n",
        "\r\n",
        "  dep_data_columns1 = list_columns.copy()\r\n",
        "  dep_data_columns1.remove('DTSM')\r\n",
        "\r\n",
        "  d = pd.DataFrame(x[list_columns], index = None)\r\n",
        "  d = d.dropna(thresh = (((len(dep_data_columns1)+2)//2 ))) \r\n",
        "  X = pd.DataFrame(d[dep_data_columns1], index = None)\r\n",
        "  Y = pd.DataFrame(d['DTSM'], index = None)\r\n",
        "  X.info()\r\n",
        "#catboost\r\n",
        "  train_x, test_x, train_y, test_y = train_test_split(X,Y,test_size=0.2)\r\n",
        "  cat = CatBoostRegressor(verbose = 0,learning_rate  = 0.01,\r\n",
        "                              task_type='GPU',\r\n",
        "                              iterations = 1500, depth = 8)\r\n",
        "  cat.fit(train_x,train_y)\r\n",
        "  pred = cat.predict(test_x)\r\n",
        "  rmse = np.sqrt(MSE(test_y,pred))\r\n",
        "  print(rmse)  \r\n",
        "  dep_X = pd.DataFrame(dep_data[dep_data_columns1])\r\n",
        "  target = pd.DataFrame(dep_data['DTSM'])\r\n",
        "  dep_pred_cat = cat.predict(dep_X)\r\n",
        "#xgb\r\n",
        "  train_x, test_x, train_y, test_y = train_test_split(X,Y,test_size=0.2)\r\n",
        "  xgb_r = xg.XGBRegressor(objective='reg:squarederror',\r\n",
        "                              tree_method = 'gpu_hist',\r\n",
        "                            n_estimators =1000,\r\n",
        "                            max_depth = 8)\r\n",
        "  xgb_r.fit(train_x,train_y)\r\n",
        "  pred = xgb_r.predict(test_x)\r\n",
        "  rmse = np.sqrt(MSE(test_y,pred))\r\n",
        "  print(rmse)\r\n",
        "  dep_X = pd.DataFrame(dep_data[dep_data_columns1])\r\n",
        "  target = pd.DataFrame(dep_data['DTSM'])\r\n",
        "  dep_pred_xgb = xgb_r.predict(dep_X)\r\n",
        "  print('CAT:',np.sqrt(MSE(target,dep_pred_cat)))\r\n",
        "  print('XGB:',np.sqrt(MSE(target,dep_pred_xgb)))\r\n",
        "  print('Ensemble:', np.sqrt(MSE(target,   (3*dep_pred_cat +  dep_pred_xgb)/4   )))"
      ],
      "execution_count": 3,
      "outputs": [
        {
          "output_type": "error",
          "ename": "NameError",
          "evalue": "ignored",
          "traceback": [
            "\u001b[0;31m---------------------------------------------------------------------------\u001b[0m",
            "\u001b[0;31mNameError\u001b[0m                                 Traceback (most recent call last)",
            "\u001b[0;32m<ipython-input-3-938d12ec1709>\u001b[0m in \u001b[0;36m<module>\u001b[0;34m()\u001b[0m\n\u001b[1;32m      1\u001b[0m \u001b[0;32mfor\u001b[0m \u001b[0mi\u001b[0m \u001b[0;32min\u001b[0m \u001b[0mrange\u001b[0m\u001b[0;34m(\u001b[0m\u001b[0;36m20\u001b[0m\u001b[0;34m)\u001b[0m\u001b[0;34m:\u001b[0m\u001b[0;34m\u001b[0m\u001b[0;34m\u001b[0m\u001b[0m\n\u001b[1;32m      2\u001b[0m    \u001b[0;31m# use gdown code to uload data\u001b[0m\u001b[0;34m\u001b[0m\u001b[0;34m\u001b[0m\u001b[0;34m\u001b[0m\u001b[0m\n\u001b[0;32m----> 3\u001b[0;31m   \u001b[0mvalue\u001b[0m \u001b[0;34m=\u001b[0m \u001b[0mrandint\u001b[0m\u001b[0;34m(\u001b[0m\u001b[0;36m0\u001b[0m\u001b[0;34m,\u001b[0m\u001b[0mlen\u001b[0m\u001b[0;34m(\u001b[0m\u001b[0mlist_name_F\u001b[0m\u001b[0;34m)\u001b[0m\u001b[0;34m)\u001b[0m\u001b[0;34m\u001b[0m\u001b[0;34m\u001b[0m\u001b[0m\n\u001b[0m\u001b[1;32m      4\u001b[0m   \u001b[0mprint\u001b[0m\u001b[0;34m(\u001b[0m\u001b[0mvalue\u001b[0m\u001b[0;34m)\u001b[0m\u001b[0;34m\u001b[0m\u001b[0;34m\u001b[0m\u001b[0m\n\u001b[1;32m      5\u001b[0m   \u001b[0mprint\u001b[0m\u001b[0;34m(\u001b[0m\u001b[0mlist_name_F\u001b[0m\u001b[0;34m[\u001b[0m\u001b[0mvalue\u001b[0m\u001b[0;34m]\u001b[0m\u001b[0;34m)\u001b[0m\u001b[0;34m\u001b[0m\u001b[0;34m\u001b[0m\u001b[0m\n",
            "\u001b[0;31mNameError\u001b[0m: name 'randint' is not defined"
          ]
        }
      ]
    },
    {
      "cell_type": "code",
      "metadata": {
        "colab": {
          "base_uri": "https://localhost:8080/",
          "height": 231
        },
        "id": "U9CXiOFw4WcP",
        "outputId": "ffcff260-48f0-4fdd-ca65-3d75fb6d3d94"
      },
      "source": [
        "for i in range(20):\r\n",
        "   # use gdown code to upload data\r\n",
        "  value = randint(0,len(list_name_T))\r\n",
        "  print(value)\r\n",
        "  print(list_name_T[value])\r\n",
        " # las = lasio.read(list_path_T[value])\r\n",
        " # dep = las.df()\r\n",
        " # dep = dep[dep['DTSM'].notna()]\r\n",
        "  X = lasio.read(list_path_T[value])\r\n",
        "  X.write(list_name_T[value])\r\n",
        "  os.remove(list_path_T[value])\r\n",
        "# Import module\r\n",
        " # p = Project.from_las(root +'/*.las')\r\n",
        "  def wellydf( df, alias_dict ):\r\n",
        "\r\n",
        "    df2 = pd.DataFrame()\r\n",
        "    for alias, columns in alias_dict.items(): \r\n",
        "      for column in columns:\r\n",
        "        if column in df.columns.values:\r\n",
        "          df2[alias] = df[column]\r\n",
        "          break\r\n",
        "    return df2\r\n",
        "\r\n",
        "# making wellF data\r\n",
        "  folder_name = '/content/wellT'\r\n",
        "\r\n",
        "  x = pd.DataFrame()\r\n",
        "  files = os.listdir(folder_name)\r\n",
        "  deploy = []\r\n",
        "\r\n",
        "  for y in tqdm(files):\r\n",
        "    if y in deploy:\r\n",
        "      continue\r\n",
        "    temp = lasio.read( folder_name + '/' + y ).df()\r\n",
        "    z = wellydf( temp, alias_T )\r\n",
        "    z = z.reset_index(drop=True)\r\n",
        "    z['DEPT'] = temp.index\r\n",
        "    x = pd.concat([x,z], axis=0, ignore_index=True)\r\n",
        "\r\n",
        "  x = x[x['DTSM'].notna()]\r\n",
        "\r\n",
        "  list_key = []\r\n",
        "  for i in alias_T.keys():\r\n",
        "    list_key.append(i)\r\n",
        "\r\n",
        "  #welldata = p.df(keys= list_key, alias=alias_T)\r\n",
        "  #welldata.index = welldata.index.droplevel(0)\r\n",
        " # welldata = welldata[welldata['DTSM'].notna()]\r\n",
        "# welldata = welldata.sort_values(by = ['DTSM'])\r\n",
        "  #welldata.info()\r\n",
        "  #p_file = Project.from_las(root1 + list_name_T[value])\r\n",
        "  #dep_data = p_file.df(keys= list_key, alias=alias_T)\r\n",
        "  #dep_data = dep_data[dep_data['DTSM'].notna()]\r\n",
        "# dep_data['DEPT'] = dep.index\r\n",
        " # dep_data.info()\r\n",
        "  dep_data = dep_data.dropna(axis = 1, how = 'all')\r\n",
        "  def wellydf( df, alias_dict ):\r\n",
        "\r\n",
        "    df2 = pd.DataFrame()\r\n",
        "    for alias, columns in alias_dict.items(): \r\n",
        "      for column in columns:\r\n",
        "        if column in df.columns.values:\r\n",
        "          df2[alias] = df[column]\r\n",
        "          break\r\n",
        "    return df2\r\n",
        "\r\n",
        "  las = lasio.read(root1 + list_name_T[value])\r\n",
        "  dep = las.df()\r\n",
        "  print(\"DEP DATA INFO\")\r\n",
        "  dep.info()\r\n",
        "  dep_data = wellydf(dep, alias_T)\r\n",
        "  dep_data = dep_data[dep_data['DTSM'].notna()]\r\n",
        "  dep_data = dep_data.dropna(axis = 1, how = 'all')\r\n",
        "  list_columns = []\r\n",
        "  for i in dep_data.columns:\r\n",
        "    list_columns.append(i)\r\n",
        "\r\n",
        "  dep_data_columns1 = list_columns.copy()\r\n",
        "  dep_data_columns1.remove('DTSM')\r\n",
        "\r\n",
        "  d = pd.DataFrame(x[list_columns], index = None)\r\n",
        "  d = d.dropna(thresh = (((len(dep_data_columns1)+2)//2))) \r\n",
        "  X = pd.DataFrame(d[dep_data_columns1], index = None)\r\n",
        "  Y = pd.DataFrame(d['DTSM'], index = None)\r\n",
        "  X.info()\r\n",
        "#catboost\r\n",
        "  train_x, test_x, train_y, test_y = train_test_split(X,Y,test_size=0.2)\r\n",
        "  cat = CatBoostRegressor(verbose = 0,learning_rate  = 0.01,\r\n",
        "                              task_type='GPU',\r\n",
        "                              iterations = 1500, depth = 8)\r\n",
        "  cat.fit(train_x,train_y)\r\n",
        "  pred = cat.predict(test_x)\r\n",
        "  rmse = np.sqrt(MSE(test_y,pred))\r\n",
        "  print(rmse)  \r\n",
        "  dep_X = pd.DataFrame(dep_data[dep_data_columns1])\r\n",
        "  target = pd.DataFrame(dep_data['DTSM'])\r\n",
        "  dep_pred_cat = cat.predict(dep_X)\r\n",
        "#xgb\r\n",
        "  train_x, test_x, train_y, test_y = train_test_split(X,Y,test_size=0.2)\r\n",
        "  xgb_r = xg.XGBRegressor(objective='reg:squarederror',\r\n",
        "                              tree_method = 'gpu_hist',\r\n",
        "                            n_estimators =1500,\r\n",
        "                            max_depth = 8)\r\n",
        "  xgb_r.fit(train_x,train_y)\r\n",
        "  pred = xgb_r.predict(test_x)\r\n",
        "  rmse = np.sqrt(MSE(test_y,pred))\r\n",
        "  print(rmse)\r\n",
        "  dep_X = pd.DataFrame(dep_data[dep_data_columns1])\r\n",
        "  target = pd.DataFrame(dep_data['DTSM'])\r\n",
        "  dep_pred_xgb = xgb_r.predict(dep_X)\r\n",
        "  print('CAT:',np.sqrt(MSE(target,dep_pred_cat)))\r\n",
        "  print('XGB:',np.sqrt(MSE(target,dep_pred_xgb)))\r\n",
        "  print('Ensemble:', np.sqrt(MSE(target,   (3*dep_pred_cat +  dep_pred_xgb)/4   )))"
      ],
      "execution_count": 4,
      "outputs": [
        {
          "output_type": "error",
          "ename": "NameError",
          "evalue": "ignored",
          "traceback": [
            "\u001b[0;31m---------------------------------------------------------------------------\u001b[0m",
            "\u001b[0;31mNameError\u001b[0m                                 Traceback (most recent call last)",
            "\u001b[0;32m<ipython-input-4-4b6f2434f6ca>\u001b[0m in \u001b[0;36m<module>\u001b[0;34m()\u001b[0m\n\u001b[1;32m      1\u001b[0m \u001b[0;32mfor\u001b[0m \u001b[0mi\u001b[0m \u001b[0;32min\u001b[0m \u001b[0mrange\u001b[0m\u001b[0;34m(\u001b[0m\u001b[0;36m20\u001b[0m\u001b[0;34m)\u001b[0m\u001b[0;34m:\u001b[0m\u001b[0;34m\u001b[0m\u001b[0;34m\u001b[0m\u001b[0m\n\u001b[1;32m      2\u001b[0m    \u001b[0;31m# use gdown code to uload data\u001b[0m\u001b[0;34m\u001b[0m\u001b[0;34m\u001b[0m\u001b[0;34m\u001b[0m\u001b[0m\n\u001b[0;32m----> 3\u001b[0;31m   \u001b[0mvalue\u001b[0m \u001b[0;34m=\u001b[0m \u001b[0mrandint\u001b[0m\u001b[0;34m(\u001b[0m\u001b[0;36m0\u001b[0m\u001b[0;34m,\u001b[0m\u001b[0mlen\u001b[0m\u001b[0;34m(\u001b[0m\u001b[0mlist_name_T\u001b[0m\u001b[0;34m)\u001b[0m\u001b[0;34m)\u001b[0m\u001b[0;34m\u001b[0m\u001b[0;34m\u001b[0m\u001b[0m\n\u001b[0m\u001b[1;32m      4\u001b[0m   \u001b[0mprint\u001b[0m\u001b[0;34m(\u001b[0m\u001b[0mvalue\u001b[0m\u001b[0;34m)\u001b[0m\u001b[0;34m\u001b[0m\u001b[0;34m\u001b[0m\u001b[0m\n\u001b[1;32m      5\u001b[0m   \u001b[0mprint\u001b[0m\u001b[0;34m(\u001b[0m\u001b[0mlist_name_T\u001b[0m\u001b[0;34m[\u001b[0m\u001b[0mvalue\u001b[0m\u001b[0;34m]\u001b[0m\u001b[0;34m)\u001b[0m\u001b[0;34m\u001b[0m\u001b[0;34m\u001b[0m\u001b[0m\n",
            "\u001b[0;31mNameError\u001b[0m: name 'randint' is not defined"
          ]
        }
      ]
    },
    {
      "cell_type": "code",
      "metadata": {
        "colab": {
          "base_uri": "https://localhost:8080/",
          "height": 231
        },
        "id": "ZIRCjo6sdZFc",
        "outputId": "79d07283-f0d8-466c-d0c7-66ec163f87cb"
      },
      "source": [
        "param_test2 = {\r\n",
        " 'max_depth':[4,5,6],\r\n",
        " 'min_child_weight':[4,5,6]\r\n",
        "}\r\n",
        "gsearch2 = GridSearchCV(estimator = xg( learning_rate=0.1, n_estimators=140, max_depth='max_depth',\r\n",
        " min_child_weight='min_child_weight'), \r\n",
        " param_grid = param_test2, scoring='roc_auc',n_jobs=4,iid=False, cv=5)\r\n",
        "gsearch2.fit(train_x,train_y)\r\n",
        "gsearch2.grid_scores_, gsearch2.best_params_, gsearch2.best_score_"
      ],
      "execution_count": null,
      "outputs": [
        {
          "output_type": "error",
          "ename": "TypeError",
          "evalue": "ignored",
          "traceback": [
            "\u001b[0;31m---------------------------------------------------------------------------\u001b[0m",
            "\u001b[0;31mTypeError\u001b[0m                                 Traceback (most recent call last)",
            "\u001b[0;32m<ipython-input-17-5b509595bde9>\u001b[0m in \u001b[0;36m<module>\u001b[0;34m()\u001b[0m\n\u001b[1;32m      4\u001b[0m }\n\u001b[1;32m      5\u001b[0m gsearch2 = GridSearchCV(estimator = xg( learning_rate=0.1, n_estimators=140, max_depth='max_depth',\n\u001b[0;32m----> 6\u001b[0;31m  min_child_weight='min_child_weight'), \n\u001b[0m\u001b[1;32m      7\u001b[0m  param_grid = param_test2, scoring='roc_auc',n_jobs=4,iid=False, cv=5)\n\u001b[1;32m      8\u001b[0m \u001b[0mgsearch2\u001b[0m\u001b[0;34m.\u001b[0m\u001b[0mfit\u001b[0m\u001b[0;34m(\u001b[0m\u001b[0mtrain_x\u001b[0m\u001b[0;34m,\u001b[0m\u001b[0mtrain_y\u001b[0m\u001b[0;34m)\u001b[0m\u001b[0;34m\u001b[0m\u001b[0;34m\u001b[0m\u001b[0m\n",
            "\u001b[0;31mTypeError\u001b[0m: 'module' object is not callable"
          ]
        }
      ]
    },
    {
      "cell_type": "code",
      "metadata": {
        "colab": {
          "base_uri": "https://localhost:8080/",
          "height": 248
        },
        "id": "_aJPXHrAd8L5",
        "outputId": "3b92e099-1d29-4378-8d47-9e211bcaff1d"
      },
      "source": [
        "for i in range(1):\r\n",
        " # use gdown code to upload data\r\n",
        "  value = 70\r\n",
        "  print(value)\r\n",
        "  print(list_name_T[value])\r\n",
        "  las = lasio.read(list_path_T[value])\r\n",
        "  dep = las.df()\r\n",
        "  dep = dep[dep['DTSM'].notna()]\r\n",
        "  X = lasio.read(list_path_T[value])\r\n",
        "  X.write(list_name_T[value])\r\n",
        "  os.remove(list_path_T[value])\r\n",
        "# Import module\r\n",
        "  p = Project.from_las(root +'/*.las')\r\n",
        "\r\n",
        "  list_key = []\r\n",
        "  for i in alias_T.keys():\r\n",
        "    list_key.append(i)\r\n",
        "\r\n",
        "  welldata = p.df(keys= list_key, alias=alias_T)\r\n",
        "  welldata.index = welldata.index.droplevel(0)\r\n",
        "  welldata = welldata[welldata['DTSM'].notna()]\r\n",
        "# welldata = welldata.sort_values(by = ['DTSM'])\r\n",
        "  welldata.info()\r\n",
        "  p_file = Project.from_las(root1 + list_name_T[value])\r\n",
        "  dep_data = p_file.df(keys= list_key, alias=alias_T)\r\n",
        "  dep_data = dep_data[dep_data['DTSM'].notna()]\r\n",
        "# dep_data['DEPT'] = dep.index\r\n",
        "  dep_data.info()\r\n",
        "  dep_data = dep_data.dropna(axis = 1, how = 'all')\r\n",
        "  list_columns = []\r\n",
        "  for i in dep_data.columns:\r\n",
        "    list_columns.append(i)\r\n",
        "\r\n",
        "  dep_data_columns1 = list_columns.copy()\r\n",
        "  dep_data_columns1.remove('DTSM')\r\n",
        "\r\n",
        "  d = pd.DataFrame(welldata[list_columns], index = None)\r\n",
        "  d = d.dropna(thresh = ((len(dep_data_columns1)//2)+1)) \r\n",
        "  X = pd.DataFrame(d[dep_data_columns1], index = None)\r\n",
        "  Y = pd.DataFrame(d['DTSM'], index = None)\r\n",
        "  X.info()"
      ],
      "execution_count": 5,
      "outputs": [
        {
          "output_type": "stream",
          "text": [
            "70\n"
          ],
          "name": "stdout"
        },
        {
          "output_type": "error",
          "ename": "NameError",
          "evalue": "ignored",
          "traceback": [
            "\u001b[0;31m---------------------------------------------------------------------------\u001b[0m",
            "\u001b[0;31mNameError\u001b[0m                                 Traceback (most recent call last)",
            "\u001b[0;32m<ipython-input-5-5dd1ae556752>\u001b[0m in \u001b[0;36m<module>\u001b[0;34m()\u001b[0m\n\u001b[1;32m      3\u001b[0m   \u001b[0mvalue\u001b[0m \u001b[0;34m=\u001b[0m \u001b[0;36m70\u001b[0m\u001b[0;34m\u001b[0m\u001b[0;34m\u001b[0m\u001b[0m\n\u001b[1;32m      4\u001b[0m   \u001b[0mprint\u001b[0m\u001b[0;34m(\u001b[0m\u001b[0mvalue\u001b[0m\u001b[0;34m)\u001b[0m\u001b[0;34m\u001b[0m\u001b[0;34m\u001b[0m\u001b[0m\n\u001b[0;32m----> 5\u001b[0;31m   \u001b[0mprint\u001b[0m\u001b[0;34m(\u001b[0m\u001b[0mlist_name_T\u001b[0m\u001b[0;34m[\u001b[0m\u001b[0mvalue\u001b[0m\u001b[0;34m]\u001b[0m\u001b[0;34m)\u001b[0m\u001b[0;34m\u001b[0m\u001b[0;34m\u001b[0m\u001b[0m\n\u001b[0m\u001b[1;32m      6\u001b[0m   \u001b[0mlas\u001b[0m \u001b[0;34m=\u001b[0m \u001b[0mlasio\u001b[0m\u001b[0;34m.\u001b[0m\u001b[0mread\u001b[0m\u001b[0;34m(\u001b[0m\u001b[0mlist_path_T\u001b[0m\u001b[0;34m[\u001b[0m\u001b[0mvalue\u001b[0m\u001b[0;34m]\u001b[0m\u001b[0;34m)\u001b[0m\u001b[0;34m\u001b[0m\u001b[0;34m\u001b[0m\u001b[0m\n\u001b[1;32m      7\u001b[0m   \u001b[0mdep\u001b[0m \u001b[0;34m=\u001b[0m \u001b[0mlas\u001b[0m\u001b[0;34m.\u001b[0m\u001b[0mdf\u001b[0m\u001b[0;34m(\u001b[0m\u001b[0;34m)\u001b[0m\u001b[0;34m\u001b[0m\u001b[0;34m\u001b[0m\u001b[0m\n",
            "\u001b[0;31mNameError\u001b[0m: name 'list_name_T' is not defined"
          ]
        }
      ]
    },
    {
      "cell_type": "code",
      "metadata": {
        "colab": {
          "base_uri": "https://localhost:8080/"
        },
        "id": "-3j1G-CWxXp-",
        "outputId": "95bf82fb-9531-4187-b990-cadbc77312cb"
      },
      "source": [
        "20//3"
      ],
      "execution_count": null,
      "outputs": [
        {
          "output_type": "execute_result",
          "data": {
            "text/plain": [
              "6"
            ]
          },
          "metadata": {
            "tags": []
          },
          "execution_count": 50
        }
      ]
    }
  ]
}