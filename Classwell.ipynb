{
  "nbformat": 4,
  "nbformat_minor": 0,
  "metadata": {
    "colab": {
      "name": "Classwell.ipynb",
      "provenance": [],
      "collapsed_sections": [
        "FZOQjWEA5GK9",
        "Su_rNrHvB8CP",
        "VLQsEeeHCCDQ",
        "6uheeld0CJi7",
        "05ZiydQ1BS5q",
        "cIdPDk_KJ6xS"
      ],
      "toc_visible": true,
      "include_colab_link": true
    },
    "kernelspec": {
      "name": "python3",
      "display_name": "Python 3"
    },
    "accelerator": "GPU"
  },
  "cells": [
    {
      "cell_type": "markdown",
      "metadata": {
        "id": "view-in-github",
        "colab_type": "text"
      },
      "source": [
        "<a href=\"https://colab.research.google.com/github/Yashvardhan007/gooapp/blob/master/Classwell.ipynb\" target=\"_parent\"><img src=\"https://colab.research.google.com/assets/colab-badge.svg\" alt=\"Open In Colab\"/></a>"
      ]
    },
    {
      "cell_type": "markdown",
      "metadata": {
        "id": "FZOQjWEA5GK9"
      },
      "source": [
        "# Pre-requisites"
      ]
    },
    {
      "cell_type": "markdown",
      "metadata": {
        "id": "Su_rNrHvB8CP"
      },
      "source": [
        "##### Install libraries"
      ]
    },
    {
      "cell_type": "code",
      "metadata": {
        "id": "PRw9Cy7adi12"
      },
      "source": [
        "%%capture\n",
        "!pip install welly\n",
        "!pip install catboost\n",
        "\n",
        "# requirements.txt karna hai"
      ],
      "execution_count": null,
      "outputs": []
    },
    {
      "cell_type": "markdown",
      "metadata": {
        "id": "VLQsEeeHCCDQ"
      },
      "source": [
        "##### Import"
      ]
    },
    {
      "cell_type": "code",
      "metadata": {
        "id": "JhsSl-UNdWKO"
      },
      "source": [
        "import numpy as np \n",
        "import pandas as pd \n",
        "\n",
        "import os\n",
        "\n",
        "import welly\n",
        "from welly import Well\n",
        "from welly import Project\n",
        "\n",
        "import lasio \n",
        "from tqdm.notebook import tqdm\n",
        "from sklearn.model_selection import train_test_split\n",
        "import xgboost as xg\n",
        "from catboost import CatBoostRegressor\n",
        "import random\n",
        "\n",
        "from sklearn.metrics import mean_squared_error as MSE\n",
        "\n",
        "import time\n",
        "import warnings\n",
        "warnings.filterwarnings('ignore')"
      ],
      "execution_count": null,
      "outputs": []
    },
    {
      "cell_type": "code",
      "metadata": {
        "id": "qvoEPnsy1fyB"
      },
      "source": [
        "def seed_everything(seed):\n",
        "    random.seed(seed)\n",
        "    os.environ['PYTHONHASHSEED'] = str(seed)\n",
        "    np.random.seed(seed)\n",
        "seed = 42\n",
        "seed_everything(seed)"
      ],
      "execution_count": null,
      "outputs": []
    },
    {
      "cell_type": "markdown",
      "metadata": {
        "id": "6uheeld0CJi7"
      },
      "source": [
        "##### Alias Dictionary"
      ]
    },
    {
      "cell_type": "code",
      "metadata": {
        "id": "kgm0xemo-eQt"
      },
      "source": [
        "# False dict\r\n",
        "alias_dict_F = dict()\r\n",
        "\r\n",
        "alias_dict_F['li_DEC_D'] = ['DPHZ', 'DPHI_LS', 'DPHI', 'DPOR_LS', 'DPO_LS', 'DPHZ_LS'] # from density\r\n",
        "alias_dict_F['li_DEC_N'] = ['NPOR_LS', 'ENPH_LS', 'NPHI_LS', 'APLC_LS', 'NPHI_LS_1', 'NPHI', 'SNP'] # from Neutron\r\n",
        "alias_dict_F['li_DEC_T'] = ['TNPH_LS_1', 'TNPH_LS', 'TPHI_LS', 'TNPH', 'CNPOR_LS', 'TNPH_LIM'] # thermal\r\n",
        "alias_dict_F['li_DEC_S'] = ['SPHI', 'SPHI_LS'] # sonic\r\n",
        "alias_dict_F['li_DEC_NOR'] = ['PORS_LS', 'PXND', 'PORZ_LS'] # normal\r\n",
        "\r\n",
        "alias_dict_F['li_USF_S'] = ['DTS', 'DT4ST', 'DT4SR', 'DT1', 'DT4S', 'DTSH', 'DT1T', 'DTTS', 'DTRS', 'DT1R', 'DT2R', 'DTST', 'DT2'] # shear\r\n",
        "alias_dict_F['li_USF_P'] = ['DTCO','DT4PR', 'DT4PT', 'DTCO_1', 'DT4P', 'DTTP'] # compressional\r\n",
        "alias_dict_F['li_USF_LO'] = ['DTC', 'DT', 'DTLN', 'DTLF', 'DTL'] # long spacing \r\n",
        "\r\n",
        "alias_dict_F['li_GAPI_D'] = ['GRD1', 'CGRD', 'GRD', 'HCGRD', 'HSGRD'] # density\r\n",
        "alias_dict_F['li_GAPI_R'] = ['HCGRR', 'CGRR', 'GRR', 'GRR_R', 'GRR_R2', 'GRR_R1'] # Resistivity\r\n",
        "alias_dict_F['li_GAPI_S'] = ['GRS1', 'CGRS', 'ECGRS', 'HSGRS', 'HCGRS'] # Sonic\r\n",
        "alias_dict_F['li_GAPI_N'] = ['HGRT', 'GRC', 'GR_EDTC', 'GR', 'ECGREDTC', 'GRT'] # Normal\r\n",
        "alias_dict_F['li_GAPI_SPEC'] = ['SGRR', 'HSGR', 'SGRD', 'SGRDD', 'SGR', 'SGRS'] # spectroscopy\r\n",
        "\r\n",
        "alias_dict_F['li_IN_D'] = ['LCALD', 'CALD', 'CALI', 'LCAL', 'LCAL_1'] # density\r\n",
        "alias_dict_F['li_IN_R'] = ['CALSR', 'CAL1R', 'CAL1R_R', 'CALSR_R', 'CALR'] # resistivity\r\n",
        "alias_dict_F['li_IN_HILT'] = ['HCALS', 'HCAL', 'HCAL_2', 'HCALD', 'HCALR', 'HCAL_1'] # hilt\r\n",
        "alias_dict_F['li_IN_HD'] = ['HD2', 'HD1', 'HD', 'HD1_PPC1', 'HDS', 'HD2_PPC2', 'HD2_PPC1'] # hd\r\n",
        "alias_dict_F['li_IN_N'] = ['CALX', 'C1', 'C2', 'DCAL'] # normal\r\n",
        "\r\n",
        "alias_dict_F['li_SH'] = ['AE10','AF10','AHT10','AT10','HLLS','HMIN','HMNO','LLS','LLS_R','LLS_R1','LLS_R2','MSFL','MSFL_R','RXO8','SFLU']\r\n",
        "alias_dict_F['li_DP'] =['AHT90', 'AF90', 'ILD', 'AT90', 'HRID', 'AE90', 'LLD_R1', 'LLD_R2', 'RT_HRLT', 'LLD', 'HLLD', 'LLD_R']\r\n",
        "alias_dict_F['li_MD'] = ['AE20','AE30','AF20','AHT20','AHT30','AT20','AT30','AO30','ILM','TBIT20','ILM','ILM_1','IMBC','IMPH','RXOZ','RXOZ_R','RXO_HRLT']\r\n",
        "alias_dict_F['li_RLA'] = ['RLA1','RLA2','RLA3','RLA4','RLA5']\r\n",
        "\r\n",
        "alias_dict_F['li_BE'] = ['PEFL', 'PEFZ', 'PE', 'PEF']\r\n",
        "\r\n",
        "alias_dict_F['li_MV'] = ['SPR']\r\n",
        "\r\n",
        "alias_dict_F['li_LBF_D'] = ['TEND_1', 'TEND1', 'TEND'] # density\r\n",
        "alias_dict_F['li_LBF_R'] = ['TENR_R', 'TENR_R', 'TENR_R2', 'TENR', 'TENR_R1'] # resistivity\r\n",
        "alias_dict_F['li_LBF_S'] = ['TENS1', 'LTEN', 'TENS'] # sonic\r\n",
        "alias_dict_F['li_LBF_N'] = ['TENT', 'TEN'] # normal\r\n",
        "\r\n",
        "\r\n",
        "alias_F = {\"DTSM\" :['DTSM'],\r\n",
        "         \"DEC_D\"  : alias_dict_F['li_DEC_D'],\r\n",
        "         \"DEC_N\"  : alias_dict_F['li_DEC_N'],\r\n",
        "         \"DEC_T\"  : alias_dict_F['li_DEC_T'],\r\n",
        "         \"DEC_S\"  : alias_dict_F['li_DEC_S'],\r\n",
        "         \"DEC_NOR\"  : alias_dict_F['li_DEC_NOR'],\r\n",
        "\r\n",
        "         \"USF_S\"  : alias_dict_F['li_USF_S'],\r\n",
        "         \"USF_P\"  : alias_dict_F['li_USF_P'],\r\n",
        "         \"USF_LO\"  : alias_dict_F['li_USF_LO'],\r\n",
        "\r\n",
        "         \"GAPI_D\" : alias_dict_F['li_GAPI_D'],\r\n",
        "         \"GAPI_R\" : alias_dict_F['li_GAPI_R'],\r\n",
        "         \"GAPI_S\" : alias_dict_F['li_GAPI_S'],\r\n",
        "         \"GAPI_N\" : alias_dict_F['li_GAPI_N'],\r\n",
        "         \"GAPI_SPEC\" : alias_dict_F['li_GAPI_SPEC'],\r\n",
        "\r\n",
        "         \"IN_D\"   : alias_dict_F['li_IN_D'],\r\n",
        "         \"IN_R\"   : alias_dict_F['li_IN_R'],\r\n",
        "         \"IN_HILT\"   : alias_dict_F['li_IN_HILT'],\r\n",
        "         \"IN_N\"   : alias_dict_F['li_IN_N'],\r\n",
        "\r\n",
        "         \"MV\"   : alias_dict_F['li_MV'],\r\n",
        "\r\n",
        "         \"BE\"   : alias_dict_F['li_BE'],\r\n",
        "\r\n",
        "         \"LBF_D\"  : alias_dict_F['li_LBF_D'],\r\n",
        "         \"LBF_R\"  : alias_dict_F['li_LBF_R'],\r\n",
        "         \"LBF_S\"  : alias_dict_F['li_LBF_S'],\r\n",
        "         \"LBF_N\"  : alias_dict_F['li_LBF_N'],\r\n",
        "\r\n",
        "         \"SH\"   : alias_dict_F['li_SH'],\r\n",
        "         \"DP\"   : alias_dict_F['li_DP'], \r\n",
        "         \"RL\"   : alias_dict_F['li_RLA']\r\n",
        " }\r\n",
        "#########################################################\r\n",
        "\r\n",
        "# True dict \r\n",
        "alias_dict_T = dict()\r\n",
        "alias_dict_T['li_SH'] = ['AT10', 'AE10', 'AHT10', 'LLS', 'SFL', 'AST10'] # shallow\r\n",
        "alias_dict_T['li_MD'] = ['AE20', 'IMBC', 'AF20','AE30', 'ILM_1', 'AST30', 'IMPH', 'AHT30','ILM', 'AHT20', 'TBIT20', 'TBIT30'] # Medium\r\n",
        "alias_dict_T['li_DP'] = ['ILD1', 'ILD_1', 'AT90', 'AE90', 'AST90', 'LLD', 'ILD', 'AHT90', 'IDPH'] # deep\r\n",
        "alias_dict_T['li_SFL'] = ['SFLA', 'SFLU', 'SFLU', 'SFLU_1', 'RILD']\r\n",
        "alias_dict_T['li_RLA'] = ['RLA3', 'RLA1', 'RLA5']\r\n",
        "\r\n",
        "alias_dict_T['li_DEC_NP'] = ['NPHI', 'NPOR', 'NPHI_LS', 'NPOR_LS', 'NPHS', 'NPHI1', 'CNC'] # Neutron\r\n",
        "alias_dict_T['li_DEC_DP'] = ['DPHZ2', 'DPHZ_LS', 'DPHI_LS', 'DPHI', 'DPOR', 'DPHI_SLDT', 'DPHZ', 'PORZ', 'DPO_LS', 'DPO'] # Density\r\n",
        "alias_dict_T['li_DEC_ST'] = ['SPHI_SS', 'SPHI', 'TNPH_LS', 'SPHI_LS'] # Sonic\r\n",
        "\r\n",
        "alias_dict_T['li_USF_S'] = ['DT1', 'DTSM_SLOW', 'DTSM_FAST', 'DT4S', 'DTRS', 'DTC', 'DTTS', 'DTS', 'DTMD', 'DTST', 'DT', 'DTOT', 'DTM'] # Shear\r\n",
        "alias_dict_T['li_USF_P'] = ['DT4P', 'DTRP', 'DTTP', 'DTC', 'DTCO_1', 'DTCO', 'DT'] # Compressional\r\n",
        "\r\n",
        "alias_dict_T['li_GAPI_D'] = ['GRD', 'SGRD', 'ECGRD', 'SGR'] # from Density\r\n",
        "alias_dict_T['li_GAPI_R']  = ['ECGRR', 'GRR'] # from resistivity\r\n",
        "alias_dict_T['li_GAPI_S'] = ['GRN', 'ECGRS'] # from sonic\r\n",
        "alias_dict_T['li_GAPI_N'] = ['GR_EDTC', 'GR_STGC', 'GR']  # normal Gamma API\r\n",
        "\r\n",
        "alias_dict_T['li_IN_D'] = ['C1', 'LCAL', 'CALI', 'CALD', 'LCALD'] # from density\r\n",
        "alias_dict_T['li_IN_R'] = ['CALI_SPCS', 'CALR'] # from resistivity\r\n",
        "alias_dict_T['li_IN_HILT'] =  ['HCAL2R', 'HCAL_1', 'HCAL_2', 'HCALD', 'HCALR', 'HCALS', 'HCAL'] # from HILT\r\n",
        " \r\n",
        "alias_dict_T['li_LB_D'] = ['TEND'] # from density\r\n",
        "alias_dict_T['li_LB_R'] = ['TENR'] # from Resistivity\r\n",
        "alias_dict_T['li_LB_S'] = ['TENS'] # from Sonic\r\n",
        "\r\n",
        "alias_dict_T['li_BE'] = ['PEF_SLDT', 'PE', 'PEFZ', 'PEF', 'PEFS', 'PEFL']\r\n",
        "\r\n",
        "alias_dict_T['li_MV'] = ['SPR']\r\n",
        "\r\n",
        "\r\n",
        "alias_T = {\"DTSM\" :['DTSM'],\r\n",
        "           \r\n",
        "         \"DEC_NP\"  : alias_dict_T['li_DEC_NP'],\r\n",
        "         \"DEC_DP\"  : alias_dict_T['li_DEC_DP'],\r\n",
        "         \"DEC_ST\"  : alias_dict_T['li_DEC_ST'],\r\n",
        "\r\n",
        "         \"USF_S\"  : alias_dict_T['li_USF_S'],\r\n",
        "         \"USF_P\"  : alias_dict_T['li_USF_P'],\r\n",
        "\r\n",
        "         \"GAPI_D\" : alias_dict_T['li_GAPI_D'],\r\n",
        "         \"GAPI_R\" : alias_dict_T['li_GAPI_R'],\r\n",
        "         \"GAPI_S\" : alias_dict_T['li_GAPI_S'],\r\n",
        "         \"GAPI_N\" : alias_dict_T['li_GAPI_N'],\r\n",
        "\r\n",
        "         \"IN_D\"   : alias_dict_T['li_IN_D'],\r\n",
        "         \"IN_R\"   : alias_dict_T['li_IN_R'],\r\n",
        "         \"IN_HILT\"  : alias_dict_T['li_IN_HILT'],\r\n",
        "\r\n",
        "         \"MV\"   : alias_dict_T['li_MV'],\r\n",
        "\r\n",
        "         \"BE\"   : alias_dict_T['li_BE'],\r\n",
        "\r\n",
        "          \"SH\"  : alias_dict_T['li_SH'],\r\n",
        "          \"DP\"  : alias_dict_T['li_DP'],\r\n",
        "         \"SFL\"  : alias_dict_T['li_SFL'],\r\n",
        "\r\n",
        "         \"LB_D\"  : alias_dict_T['li_LB_D'],\r\n",
        "         \"LB_R\"  : alias_dict_T['li_LB_R'],\r\n",
        "         \"LB_S\"  : alias_dict_T['li_LB_S']\r\n",
        " }\r\n",
        "\r\n",
        "alias_dict = np.array( [alias_T, alias_F] )"
      ],
      "execution_count": null,
      "outputs": []
    },
    {
      "cell_type": "markdown",
      "metadata": {
        "id": "g6MFpwoLCO_o"
      },
      "source": [
        "##### Training Data Download"
      ]
    },
    {
      "cell_type": "code",
      "metadata": {
        "colab": {
          "base_uri": "https://localhost:8080/",
          "height": 231
        },
        "id": "SBGAFZBWzNee",
        "outputId": "70419d9b-e662-47f7-d66f-f2568af7d09d"
      },
      "source": [
        "#project welly training data download\n",
        "\n",
        "import pickle\n",
        "\n",
        "def load_object(obj):\n",
        "  with open(obj, 'rb') as input:\n",
        "      obj = pickle.load(input)\n",
        "      return obj\n",
        "\n",
        "if not os.path.exists('TrainingDataFT'):\n",
        "  print(\"Downloading Data...\")\n",
        "  # use gitdown to upload train data from drive\n",
        "\n",
        "data = np.array([\n",
        "                  load_object('TrainingDataFT/TrainingdataForTrue.pkl'), \n",
        "                   load_object('TrainingDataFT/TrainingdataForFalse.pkl')\n",
        "                ])\n"
      ],
      "execution_count": 1,
      "outputs": [
        {
          "output_type": "error",
          "ename": "NameError",
          "evalue": "ignored",
          "traceback": [
            "\u001b[0;31m---------------------------------------------------------------------------\u001b[0m",
            "\u001b[0;31mNameError\u001b[0m                                 Traceback (most recent call last)",
            "\u001b[0;32m<ipython-input-1-7959bf697d57>\u001b[0m in \u001b[0;36m<module>\u001b[0;34m()\u001b[0m\n\u001b[1;32m      8\u001b[0m       \u001b[0;32mreturn\u001b[0m \u001b[0mobj\u001b[0m\u001b[0;34m\u001b[0m\u001b[0;34m\u001b[0m\u001b[0m\n\u001b[1;32m      9\u001b[0m \u001b[0;34m\u001b[0m\u001b[0m\n\u001b[0;32m---> 10\u001b[0;31m \u001b[0;32mif\u001b[0m \u001b[0;32mnot\u001b[0m \u001b[0mos\u001b[0m\u001b[0;34m.\u001b[0m\u001b[0mpath\u001b[0m\u001b[0;34m.\u001b[0m\u001b[0mexists\u001b[0m\u001b[0;34m(\u001b[0m\u001b[0;34m'TrainingDataFT'\u001b[0m\u001b[0;34m)\u001b[0m\u001b[0;34m:\u001b[0m\u001b[0;34m\u001b[0m\u001b[0;34m\u001b[0m\u001b[0m\n\u001b[0m\u001b[1;32m     11\u001b[0m   \u001b[0mprint\u001b[0m\u001b[0;34m(\u001b[0m\u001b[0;34m\"Downloading Data...\"\u001b[0m\u001b[0;34m)\u001b[0m\u001b[0;34m\u001b[0m\u001b[0;34m\u001b[0m\u001b[0m\n\u001b[1;32m     12\u001b[0m   \u001b[0;31m# use gitdown to upload train data from drive\u001b[0m\u001b[0;34m\u001b[0m\u001b[0;34m\u001b[0m\u001b[0;34m\u001b[0m\u001b[0m\n",
            "\u001b[0;31mNameError\u001b[0m: name 'os' is not defined"
          ]
        }
      ]
    },
    {
      "cell_type": "markdown",
      "metadata": {
        "id": "05ZiydQ1BS5q"
      },
      "source": [
        "##### test data download"
      ]
    },
    {
      "cell_type": "code",
      "metadata": {
        "colab": {
          "base_uri": "https://localhost:8080/",
          "height": 280
        },
        "id": "78jp-dg5BTNU",
        "outputId": "3509a0bd-a8fb-44a4-b7cf-78390c0182bb"
      },
      "source": [
        "#use gdown to upload test data"
      ],
      "execution_count": null,
      "outputs": [
        {
          "output_type": "stream",
          "text": [
            "Downloading...\n",
            "From: https://drive.google.com/uc?id=1-43M2dHo-p7sBMQv0DK2RK8ZC1cNpVUC\n",
            "To: /content/final-data.zip\n",
            "6.83MB [00:00, 60.2MB/s]\n"
          ],
          "name": "stdout"
        },
        {
          "output_type": "error",
          "ename": "FileNotFoundError",
          "evalue": "ignored",
          "traceback": [
            "\u001b[0;31m---------------------------------------------------------------------------\u001b[0m",
            "\u001b[0;31mFileNotFoundError\u001b[0m                         Traceback (most recent call last)",
            "\u001b[0;32m<ipython-input-5-c8259bdb00c2>\u001b[0m in \u001b[0;36m<module>\u001b[0;34m()\u001b[0m\n\u001b[1;32m      1\u001b[0m \u001b[0mget_ipython\u001b[0m\u001b[0;34m(\u001b[0m\u001b[0;34m)\u001b[0m\u001b[0;34m.\u001b[0m\u001b[0msystem\u001b[0m\u001b[0;34m(\u001b[0m\u001b[0;34m'gdown --id 1-43M2dHo-p7sBMQv0DK2RK8ZC1cNpVUC'\u001b[0m\u001b[0;34m)\u001b[0m\u001b[0;34m\u001b[0m\u001b[0;34m\u001b[0m\u001b[0m\n\u001b[1;32m      2\u001b[0m \u001b[0mget_ipython\u001b[0m\u001b[0;34m(\u001b[0m\u001b[0;34m)\u001b[0m\u001b[0;34m.\u001b[0m\u001b[0msystem\u001b[0m\u001b[0;34m(\u001b[0m\u001b[0;34m\"unzip -qq final-data.zip -d 'test-data'\"\u001b[0m\u001b[0;34m)\u001b[0m\u001b[0;34m\u001b[0m\u001b[0;34m\u001b[0m\u001b[0m\n\u001b[0;32m----> 3\u001b[0;31m \u001b[0mos\u001b[0m\u001b[0;34m.\u001b[0m\u001b[0mremove\u001b[0m\u001b[0;34m(\u001b[0m\u001b[0;34m\"test-data.zip\"\u001b[0m\u001b[0;34m)\u001b[0m\u001b[0;34m\u001b[0m\u001b[0;34m\u001b[0m\u001b[0m\n\u001b[0m",
            "\u001b[0;31mFileNotFoundError\u001b[0m: [Errno 2] No such file or directory: 'test-data.zip'"
          ]
        }
      ]
    },
    {
      "cell_type": "markdown",
      "metadata": {
        "id": "OWH_Pm6wyIIW"
      },
      "source": [
        "# Main Class"
      ]
    },
    {
      "cell_type": "code",
      "metadata": {
        "id": "jky-aCFMlS5F"
      },
      "source": [
        "class WellLog:\n",
        "\n",
        "  def __init__(self, filepath, alias_dict, data, valid = False, drop_col = [], thresh = 1 ):\n",
        "\n",
        "    self.filepath = filepath\n",
        "    self.test = []\n",
        "    self.region = 'U'\n",
        "    self.alias_dict = alias_dict\n",
        "    self.data = data\n",
        "    self.valid = valid\n",
        "    self.drop_col = drop_col\n",
        "    self.preds = []\n",
        "    self.deploy = False\n",
        "    self.ydep = []\n",
        "\n",
        "    self.thresh = thresh\n",
        "\n",
        "    self.cluster_region()\n",
        "    self.test_util()\n",
        "\n",
        "  def cluster_region( self):\n",
        "\n",
        "    las = lasio.read(self.filepath)\n",
        "    lat = las.well['SLAT'].value\n",
        "    lon = las.well['SLON'].value\n",
        "    cluster_centers = [[5.80127095, 3.52103194],\n",
        "                          [2.27100945, 7.48227453]]\n",
        "    dist = []\n",
        "    for x in cluster_centers:\n",
        "     dist.append( (lat-x[0])**2 +  (lon-x[1])**2 )\n",
        "    if dist[0]<dist[1]:\n",
        "      self.region = 'T'\n",
        "    else:\n",
        "      self.region = 'F'\n",
        "    print('Region : {}'.format(self.region))\n",
        "\n",
        "  def id(self,x):\n",
        "    if x == 'T':\n",
        "      return 0\n",
        "    else:\n",
        "      return 1\n",
        "\n",
        "  def test_util( self):\n",
        "\n",
        "    p = Project.from_las(self.filepath)\n",
        "    self.test = p.df(keys = list(alias_dict[self.id(self.region)].keys()),\n",
        "                     alias= self.alias_dict[self.id(self.region)] )\n",
        "    self.test.dropna(axis=1, how='all', inplace=True)\n",
        "\n",
        "    if 'DTSM' in self.test.columns:\n",
        "      print(\"\\nDEPLOY FILE\\n\")\n",
        "      self.test = self.test[self.test['DTSM'].notna()]\n",
        "      self.deploy = True\n",
        "      self.ydep = self.test['DTSM']\n",
        "      self.test.drop(columns= ['DTSM'], inplace=True)\n",
        "\n",
        "    print(self.test.info())\n",
        "    if len(self.drop_col)>0:\n",
        "      print(\"CALLEDDDDDDDDDDDDDDDDDD\")\n",
        "      self.test_clean(self.drop_col,apply = 1)\n",
        "\n",
        "  def test_clean(self, drop_col = [], apply = 0 ):\n",
        "      \n",
        "      temp = self.test.drop(columns = drop_col, axis =1)\n",
        "      print(temp.info())\n",
        "      if apply:\n",
        "        self.test = temp\n",
        "\n",
        "  def train(self, model = 'both'):\n",
        "\n",
        "    xtrain = self.data[ self.id(self.region) ]\n",
        "    col_list = list(self.test.columns)\n",
        "    col_list.append('DTSM')\n",
        "    xtrain = xtrain[col_list]\n",
        "    col_list.pop()\n",
        "    xtrain = xtrain[xtrain['DTSM'].notna()]\n",
        "\n",
        "    thresh = int((len(col_list))//2)+ self.thresh\n",
        "    xtrain = xtrain.dropna( thresh = thresh)\n",
        "    ytrain = xtrain['DTSM']\n",
        "    xtrain.drop(columns= ['DTSM'], inplace=True)\n",
        "    \n",
        "    print('Training data : {}'.format(len(xtrain)) )\n",
        "\n",
        "    pred = []\n",
        "\n",
        "    if model=='xgb' or model=='both':\n",
        "      print(\"\\nTraining XGB...\")\n",
        "      xgb_r = xg.XGBRegressor(objective='reg:squarederror',\n",
        "                              random_state = 1,\n",
        "                              tree_method = 'gpu_hist',\n",
        "                            n_estimators =1000,\n",
        "                            max_depth = 8)\n",
        "      pred.append(self.train_util(xgb_r,xtrain,ytrain))\n",
        "\n",
        "    if model=='cat' or model=='both':\n",
        "      print(\"\\nTraining CAT...\")\n",
        "      cat = CatBoostRegressor(verbose = 0,learning_rate  = 0.01,\n",
        "                              task_type='GPU',\n",
        "                              random_state = 1,\n",
        "                              iterations = 1500, depth = 8)\n",
        "      pred.append(self.train_util(cat, xtrain, ytrain))\n",
        "\n",
        "    if (len(pred)>1):\n",
        "      print(\"\\nEnsembling...\")\n",
        "\n",
        "    if self.deploy:\n",
        "      print('Deploy Weighted(1:3) RMSE :{}'.format( np.sqrt(MSE(self.ydep.values, (pred[0]+4*pred[1])/5)) ))\n",
        "      print( (pred[0]+4*pred[1])/5 ) \n",
        "\n",
        "    if len(pred) >1:\n",
        "      pred[0] = (pred[0]+4*pred[1])/5\n",
        "\n",
        "    self.preds = pred[0]\n",
        "\n",
        "  def train_util(self,model,xtrain,ytrain):\n",
        "\n",
        "    if self.valid:\n",
        "      xtrain, test_x, ytrain, test_y = train_test_split(xtrain, ytrain, \n",
        "                                                        test_size=0.2,\n",
        "                                                        random_state= 42)\n",
        "    a = time.time()\n",
        "    model.fit( xtrain , ytrain )\n",
        "    b = time.time()\n",
        "    print('Train time :{}'.format(b-a))\n",
        "\n",
        "    if self.valid:\n",
        "      a = time.time()\n",
        "      pred = model.predict(test_x)\n",
        "      b = time.time()\n",
        "      print('Valid time :{}'.format(b-a))\n",
        "      rmse = np.sqrt(MSE(test_y, pred))\n",
        "      print('Valid RMSE :{}'.format(rmse))\n",
        "\n",
        "    pred = model.predict(self.test)\n",
        "\n",
        "    if self.deploy:\n",
        "      rmse = np.sqrt(MSE(self.ydep.values, pred))\n",
        "      print('Deploy RMSE :{}'.format(rmse))\n",
        "      print(pred)\n",
        "\n",
        "    return pred\n",
        "\n",
        "  def predictions(self, folder_dir= '', filename = ''):\n",
        "    if len(filename) > 0:\n",
        "      x = lasio.read(folder_dir + '/' +filename + '.las').df()\n",
        "      x = x.index\n",
        "      x = pd.DataFrame(x)\n",
        "      x['DTSM'] = self.preds\n",
        "      x.columns = ['Depth', 'DTSM']\n",
        "      print(x.head())\n",
        "      print(x.tail())\n",
        "      x.to_excel(filename + '.xlsx', index=False)\n",
        "\n",
        "    return self.preds"
      ],
      "execution_count": null,
      "outputs": []
    },
    {
      "cell_type": "markdown",
      "metadata": {
        "id": "kB-S9Ds3xHoj"
      },
      "source": [
        "# Test a Single File"
      ]
    },
    {
      "cell_type": "code",
      "metadata": {
        "colab": {
          "base_uri": "https://localhost:8080/"
        },
        "id": "pQRIfk3PEMyW",
        "outputId": "5055bc49-ae10-4487-ff31-71a5f98b9ccc"
      },
      "source": [
        "# looping \n",
        "\n",
        "# x = [  \n",
        "\n",
        "# '63250f7d463b_TGS.las',\n",
        "# '638f2cc65681_TGS.las',\n",
        "# 'fca03aa6acde_TGS.las',\n",
        "# '3369b6f8fb6f_TGS.las',\n",
        "# '8e37531ba266_TGS.las',\n",
        "# 'eed1e9537976_TGS.las',\n",
        "# '113412eec2a6_TGS.las',\n",
        "# 'ff7845ea074d_TGS.las',\n",
        "# '34a80ab7a5fa_TGS.las',\n",
        "# '84c5fb9cc880_TGS.las',   // errors\n",
        "# '7595ba9fb314_TGS.las',\n",
        "# '302460e3021a_TGS.las', // errors\n",
        "# '2f96a5f92418_TGS.las',\n",
        "# '1684cc35f399_TGS.las',\n",
        "\n",
        "# ]\n",
        "\n",
        "x = [  \n",
        "\n",
        "'7595ba9fb314_TGS.las',\n",
        "'2f96a5f92418_TGS.las',\n",
        "'1684cc35f399_TGS.las'\n",
        "\n",
        "]\n",
        "\n",
        "\n",
        "for filename in x:\n",
        "    print(filename)\n",
        "    test = WellLog( 'test-data/' + filename, alias_dict, data, valid=0  )\n",
        "    test.train()\n",
        "    test.predictions( 'test-data' ,filename[:-4] )"
      ],
      "execution_count": null,
      "outputs": [
        {
          "output_type": "stream",
          "text": [
            "\r0it [00:00, ?it/s]"
          ],
          "name": "stderr"
        },
        {
          "output_type": "stream",
          "text": [
            "7595ba9fb314_TGS.las\n",
            "Region : T\n"
          ],
          "name": "stdout"
        },
        {
          "output_type": "stream",
          "text": [
            "1it [00:00,  8.92it/s]\n"
          ],
          "name": "stderr"
        },
        {
          "output_type": "stream",
          "text": [
            "<class 'pandas.core.frame.DataFrame'>\n",
            "MultiIndex: 1893 entries, ('', 3169.3104000000003) to ('', 3457.651199999893)\n",
            "Data columns (total 12 columns):\n",
            " #   Column  Non-Null Count  Dtype  \n",
            "---  ------  --------------  -----  \n",
            " 0   DEC_NP  1893 non-null   float64\n",
            " 1   USF_P   1893 non-null   float64\n",
            " 2   GAPI_D  1893 non-null   float64\n",
            " 3   GAPI_R  1893 non-null   float64\n",
            " 4   IN_D    1893 non-null   float64\n",
            " 5   MV      1893 non-null   float64\n",
            " 6   BE      1893 non-null   float64\n",
            " 7   DP      1893 non-null   float64\n",
            " 8   SFL     1893 non-null   float64\n",
            " 9   LB_D    1893 non-null   float64\n",
            " 10  LB_R    1893 non-null   float64\n",
            " 11  LB_S    1893 non-null   float64\n",
            "dtypes: float64(12)\n",
            "memory usage: 278.0+ KB\n",
            "None\n",
            "Training data : 329394\n",
            "\n",
            "Training XGB...\n",
            "Train time :15.142849683761597\n",
            "\n",
            "Training CAT...\n",
            "Train time :9.155544757843018\n",
            "\n",
            "Ensembling...\n",
            "     Depth        DTSM\n",
            "0  10398.0  101.540324\n",
            "1  10398.5  101.169375\n",
            "2  10399.0  101.354125\n",
            "3  10399.5  107.200554\n",
            "4  10400.0  108.410917\n",
            "        Depth        DTSM\n",
            "1888  11342.0  153.484148\n",
            "1889  11342.5  153.573946\n",
            "1890  11343.0  150.242966\n",
            "1891  11343.5  146.391408\n",
            "1892  11344.0  146.609965\n",
            "2f96a5f92418_TGS.las\n"
          ],
          "name": "stdout"
        },
        {
          "output_type": "stream",
          "text": [
            "\r0it [00:00, ?it/s]"
          ],
          "name": "stderr"
        },
        {
          "output_type": "stream",
          "text": [
            "Region : T\n"
          ],
          "name": "stdout"
        },
        {
          "output_type": "stream",
          "text": [
            "1it [00:00,  3.32it/s]\n"
          ],
          "name": "stderr"
        },
        {
          "output_type": "stream",
          "text": [
            "<class 'pandas.core.frame.DataFrame'>\n",
            "MultiIndex: 3497 entries, ('', 3897.63) to ('', 4430.420399999802)\n",
            "Data columns (total 8 columns):\n",
            " #   Column   Non-Null Count  Dtype  \n",
            "---  ------   --------------  -----  \n",
            " 0   DEC_NP   3478 non-null   float64\n",
            " 1   DEC_DP   3497 non-null   float64\n",
            " 2   USF_P    3495 non-null   float64\n",
            " 3   GAPI_R   3463 non-null   float64\n",
            " 4   IN_HILT  3488 non-null   float64\n",
            " 5   MV       3497 non-null   float64\n",
            " 6   BE       3489 non-null   float64\n",
            " 7   DP       3485 non-null   float64\n",
            "dtypes: float64(8)\n",
            "memory usage: 416.3+ KB\n",
            "None\n",
            "Training data : 520947\n",
            "\n",
            "Training XGB...\n",
            "Train time :17.0696918964386\n",
            "\n",
            "Training CAT...\n",
            "Train time :10.662410974502563\n",
            "\n",
            "Ensembling...\n",
            "     Depth        DTSM\n",
            "0  12787.5  102.356538\n",
            "1  12788.0  103.625535\n",
            "2  12788.5  102.120505\n",
            "3  12789.0  101.664168\n",
            "4  12789.5  102.434800\n",
            "        Depth        DTSM\n",
            "3492  14533.5  124.156153\n",
            "3493  14534.0  126.466338\n",
            "3494  14534.5  126.801896\n",
            "3495  14535.0  127.696508\n",
            "3496  14535.5  128.288589\n",
            "1684cc35f399_TGS.las\n"
          ],
          "name": "stdout"
        },
        {
          "output_type": "stream",
          "text": [
            "\r0it [00:00, ?it/s]"
          ],
          "name": "stderr"
        },
        {
          "output_type": "stream",
          "text": [
            "Region : T\n"
          ],
          "name": "stdout"
        },
        {
          "output_type": "stream",
          "text": [
            "1it [00:00,  1.74it/s]\n"
          ],
          "name": "stderr"
        },
        {
          "output_type": "stream",
          "text": [
            "<class 'pandas.core.frame.DataFrame'>\n",
            "MultiIndex: 13255 entries, ('', 1826.9712000000002) to ('', 3846.8807999992478)\n",
            "Data columns (total 10 columns):\n",
            " #   Column  Non-Null Count  Dtype  \n",
            "---  ------  --------------  -----  \n",
            " 0   DEC_NP  9664 non-null   float64\n",
            " 1   DEC_DP  11021 non-null  float64\n",
            " 2   USF_P   13255 non-null  float64\n",
            " 3   GAPI_R  13255 non-null  float64\n",
            " 4   IN_D    11291 non-null  float64\n",
            " 5   IN_R    10593 non-null  float64\n",
            " 6   MV      13255 non-null  float64\n",
            " 7   BE      7979 non-null   float64\n",
            " 8   DP      13255 non-null  float64\n",
            " 9   SFL     13255 non-null  float64\n",
            "dtypes: float64(10)\n",
            "memory usage: 1.8+ MB\n",
            "None\n",
            "Training data : 457864\n",
            "\n",
            "Training XGB...\n",
            "Train time :15.443778276443481\n",
            "\n",
            "Training CAT...\n",
            "Train time :10.156720876693726\n",
            "\n",
            "Ensembling...\n",
            "    Depth        DTSM\n",
            "0  5994.0  133.372528\n",
            "1  5994.5  131.308559\n",
            "2  5995.0  130.000267\n",
            "3  5995.5  121.773187\n",
            "4  5996.0  116.169902\n",
            "         Depth        DTSM\n",
            "13250  12619.0  107.659834\n",
            "13251  12619.5  107.537886\n",
            "13252  12620.0  105.822346\n",
            "13253  12620.5  103.925864\n",
            "13254  12621.0  103.781597\n"
          ],
          "name": "stdout"
        }
      ]
    },
    {
      "cell_type": "code",
      "metadata": {
        "colab": {
          "base_uri": "https://localhost:8080/"
        },
        "id": "rmX7JNWMWdaP",
        "outputId": "f8e6811e-56df-4d0c-ee56-0663391030ce"
      },
      "source": [
        "# 00d02be79f49_TGS.las  USF\n",
        "# ae16a9f64878_TGS.las  DP SFL \n",
        "# 94c1f5cae85c_TGS.las  BE\n",
        "# ed48bda2217f_TGS.las  MD\n",
        "# 20372701d5e2_TGS.las  DEC IN BE DP\n",
        "# 0a7822c59487_TGS.las  IN BE SH MD\n",
        "\n",
        "temp = dict()\n",
        "temp['00d02be79f49_TGS.las'] = []\n",
        "temp['ae16a9f64878_TGS.las'] = ['IN_D', 'DP', 'SFL']\n",
        "temp['94c1f5cae85c_TGS.las'] = ['BE']\n",
        "temp['ed48bda2217f_TGS.las'] = []\n",
        "temp['20372701d5e2_TGS.las'] = ['DEC_DP', 'IN_HILT', 'BE', 'DP']\n",
        "temp['0a7822c59487_TGS.las'] = ['DEC_T', 'IN_HILT', 'BE', 'SH', 'DP']\n",
        "\n",
        "\n",
        "x = [\n",
        "# '00d02be79f49_TGS.las',\n",
        "# 'ae16a9f64878_TGS.las', error\n",
        "# '94c1f5cae85c_TGS.las', error\n",
        "# 'ed48bda2217f_TGS.las', error\n",
        "'20372701d5e2_TGS.las',\n",
        "'0a7822c59487_TGS.las'\n",
        "]\n",
        "\n",
        "for filename in x:\n",
        "    print(filename)\n",
        "    test = WellLog( 'test-data/' + filename, alias_dict, data, valid=0,\n",
        "                   drop_col = temp[filename] )\n",
        "    test.train()\n",
        "    test.predictions( 'test-data' ,filename[:-4] )"
      ],
      "execution_count": null,
      "outputs": [
        {
          "output_type": "stream",
          "text": [
            "\r0it [00:00, ?it/s]"
          ],
          "name": "stderr"
        },
        {
          "output_type": "stream",
          "text": [
            "20372701d5e2_TGS.las\n",
            "Region : T\n"
          ],
          "name": "stdout"
        },
        {
          "output_type": "stream",
          "text": [
            "1it [00:00,  7.35it/s]\n"
          ],
          "name": "stderr"
        },
        {
          "output_type": "stream",
          "text": [
            "<class 'pandas.core.frame.DataFrame'>\n",
            "MultiIndex: 2147 entries, ('', 3994.404) to ('', 4321.454399999879)\n",
            "Data columns (total 8 columns):\n",
            " #   Column   Non-Null Count  Dtype  \n",
            "---  ------   --------------  -----  \n",
            " 0   DEC_NP   2101 non-null   float64\n",
            " 1   DEC_DP   1 non-null      float64\n",
            " 2   USF_P    2147 non-null   float64\n",
            " 3   GAPI_R   2033 non-null   float64\n",
            " 4   IN_HILT  1 non-null      float64\n",
            " 5   MV       2147 non-null   float64\n",
            " 6   BE       1 non-null      float64\n",
            " 7   DP       1 non-null      float64\n",
            "dtypes: float64(8)\n",
            "memory usage: 237.4+ KB\n",
            "None\n",
            "CALLEDDDDDDDDDDDDDDDDDD\n",
            "<class 'pandas.core.frame.DataFrame'>\n",
            "MultiIndex: 2147 entries, ('', 3994.404) to ('', 4321.454399999879)\n",
            "Data columns (total 4 columns):\n",
            " #   Column  Non-Null Count  Dtype  \n",
            "---  ------  --------------  -----  \n",
            " 0   DEC_NP  2101 non-null   float64\n",
            " 1   USF_P   2147 non-null   float64\n",
            " 2   GAPI_R  2033 non-null   float64\n",
            " 3   MV      2147 non-null   float64\n",
            "dtypes: float64(4)\n",
            "memory usage: 170.3+ KB\n",
            "None\n",
            "Training data : 612755\n",
            "\n",
            "Training XGB...\n",
            "Train time :16.550269603729248\n",
            "\n",
            "Training CAT...\n",
            "Train time :11.083274364471436\n",
            "\n",
            "Ensembling...\n",
            "     Depth        DTSM\n",
            "0  13105.0  175.486000\n",
            "1  13105.5  170.848994\n",
            "2  13106.0  172.231852\n",
            "3  13106.5  172.505027\n",
            "4  13107.0  172.709394\n",
            "        Depth        DTSM\n",
            "2142  14176.0  191.199263\n",
            "2143  14176.5  189.568249\n",
            "2144  14177.0  189.501534\n",
            "2145  14177.5  189.501534\n",
            "2146  14178.0  189.501534\n",
            "0a7822c59487_TGS.las\n"
          ],
          "name": "stdout"
        },
        {
          "output_type": "stream",
          "text": [
            "\r0it [00:00, ?it/s]"
          ],
          "name": "stderr"
        },
        {
          "output_type": "stream",
          "text": [
            "Region : F\n"
          ],
          "name": "stdout"
        },
        {
          "output_type": "stream",
          "text": [
            "1it [00:00,  2.17it/s]\n"
          ],
          "name": "stderr"
        },
        {
          "output_type": "stream",
          "text": [
            "<class 'pandas.core.frame.DataFrame'>\n",
            "MultiIndex: 5135 entries, ('', 1788.5664000000002) to ('', 2570.987999999709)\n",
            "Data columns (total 13 columns):\n",
            " #   Column   Non-Null Count  Dtype  \n",
            "---  ------   --------------  -----  \n",
            " 0   DEC_D    4117 non-null   float64\n",
            " 1   DEC_N    4199 non-null   float64\n",
            " 2   DEC_T    185 non-null    float64\n",
            " 3   DEC_S    5111 non-null   float64\n",
            " 4   USF_P    5111 non-null   float64\n",
            " 5   GAPI_D   4253 non-null   float64\n",
            " 6   IN_R     4197 non-null   float64\n",
            " 7   IN_HILT  211 non-null    float64\n",
            " 8   BE       211 non-null    float64\n",
            " 9   LBF_D    4461 non-null   float64\n",
            " 10  LBF_S    5135 non-null   float64\n",
            " 11  SH       231 non-null    float64\n",
            " 12  DP       4197 non-null   float64\n",
            "dtypes: float64(13)\n",
            "memory usage: 736.9+ KB\n",
            "None\n",
            "CALLEDDDDDDDDDDDDDDDDDD\n",
            "<class 'pandas.core.frame.DataFrame'>\n",
            "MultiIndex: 5135 entries, ('', 1788.5664000000002) to ('', 2570.987999999709)\n",
            "Data columns (total 8 columns):\n",
            " #   Column  Non-Null Count  Dtype  \n",
            "---  ------  --------------  -----  \n",
            " 0   DEC_D   4117 non-null   float64\n",
            " 1   DEC_N   4199 non-null   float64\n",
            " 2   DEC_S   5111 non-null   float64\n",
            " 3   USF_P   5111 non-null   float64\n",
            " 4   GAPI_D  4253 non-null   float64\n",
            " 5   IN_R    4197 non-null   float64\n",
            " 6   LBF_D   4461 non-null   float64\n",
            " 7   LBF_S   5135 non-null   float64\n",
            "dtypes: float64(8)\n",
            "memory usage: 536.3+ KB\n",
            "None\n",
            "Training data : 299100\n",
            "\n",
            "Training XGB...\n",
            "Train time :14.838318347930908\n",
            "\n",
            "Training CAT...\n",
            "Train time :8.469681739807129\n",
            "\n",
            "Ensembling...\n",
            "    Depth        DTSM\n",
            "0  5868.0  119.523910\n",
            "1  5868.5  119.032049\n",
            "2  5869.0  119.098151\n",
            "3  5869.5  118.948016\n",
            "4  5870.0  119.113541\n",
            "       Depth        DTSM\n",
            "5130  8433.0  133.451560\n",
            "5131  8433.5  134.191022\n",
            "5132  8434.0  136.655073\n",
            "5133  8434.5  136.655073\n",
            "5134  8435.0  136.655073\n"
          ],
          "name": "stdout"
        }
      ]
    },
    {
      "cell_type": "code",
      "metadata": {
        "colab": {
          "base_uri": "https://localhost:8080/"
        },
        "id": "jaHK3f6-DWBM",
        "outputId": "e05d0469-59e6-4050-89f3-266c445c1f1b"
      },
      "source": [
        "# (self, filepath, alias_dict, data, valid = False, drop_col = [] )\n",
        "test = WellLog( 'test-data/0a7822c59487_TGS.las', alias_dict, data, valid=0  )"
      ],
      "execution_count": null,
      "outputs": [
        {
          "output_type": "stream",
          "text": [
            "\r0it [00:00, ?it/s]"
          ],
          "name": "stderr"
        },
        {
          "output_type": "stream",
          "text": [
            "Region : F\n"
          ],
          "name": "stdout"
        },
        {
          "output_type": "stream",
          "text": [
            "1it [00:00,  2.16it/s]"
          ],
          "name": "stderr"
        },
        {
          "output_type": "stream",
          "text": [
            "<class 'pandas.core.frame.DataFrame'>\n",
            "MultiIndex: 5135 entries, ('', 1788.5664000000002) to ('', 2570.987999999709)\n",
            "Data columns (total 13 columns):\n",
            " #   Column   Non-Null Count  Dtype  \n",
            "---  ------   --------------  -----  \n",
            " 0   DEC_D    4117 non-null   float64\n",
            " 1   DEC_N    4199 non-null   float64\n",
            " 2   DEC_T    185 non-null    float64\n",
            " 3   DEC_S    5111 non-null   float64\n",
            " 4   USF_P    5111 non-null   float64\n",
            " 5   GAPI_D   4253 non-null   float64\n",
            " 6   IN_R     4197 non-null   float64\n",
            " 7   IN_HILT  211 non-null    float64\n",
            " 8   BE       211 non-null    float64\n",
            " 9   LBF_D    4461 non-null   float64\n",
            " 10  LBF_S    5135 non-null   float64\n",
            " 11  SH       231 non-null    float64\n",
            " 12  DP       4197 non-null   float64\n",
            "dtypes: float64(13)\n",
            "memory usage: 736.9+ KB\n",
            "None\n"
          ],
          "name": "stdout"
        },
        {
          "output_type": "stream",
          "text": [
            "\n"
          ],
          "name": "stderr"
        }
      ]
    },
    {
      "cell_type": "code",
      "metadata": {
        "colab": {
          "base_uri": "https://localhost:8080/"
        },
        "id": "-pflHDQpDWFm",
        "outputId": "b202a8ac-4683-4fd8-bf71-5ebe2721b0b1"
      },
      "source": [
        "#  drop_col = [], apply = 0\n",
        "# apply = 0, for temproray, 1 for permanenet\n",
        "test.test_clean([], apply = 1)"
      ],
      "execution_count": null,
      "outputs": [
        {
          "output_type": "stream",
          "text": [
            "<class 'pandas.core.frame.DataFrame'>\n",
            "MultiIndex: 1297 entries, ('', 4877.4096) to ('', 5074.919999999926)\n",
            "Data columns (total 5 columns):\n",
            " #   Column  Non-Null Count  Dtype  \n",
            "---  ------  --------------  -----  \n",
            " 0   DEC_NP  1297 non-null   float64\n",
            " 1   USF_P   1289 non-null   float64\n",
            " 2   GAPI_R  1297 non-null   float64\n",
            " 3   IN_D    1297 non-null   float64\n",
            " 4   MV      1297 non-null   float64\n",
            "dtypes: float64(5)\n",
            "memory usage: 104.8+ KB\n",
            "None\n"
          ],
          "name": "stdout"
        }
      ]
    },
    {
      "cell_type": "code",
      "metadata": {
        "colab": {
          "base_uri": "https://localhost:8080/"
        },
        "id": "5rQJqZ7fDWJl",
        "outputId": "bf1ffe86-1efd-492e-c52b-4d47ed81db7f"
      },
      "source": [
        "#  model = 'both'\n",
        "test.train()"
      ],
      "execution_count": null,
      "outputs": [
        {
          "output_type": "stream",
          "text": [
            "Training data : 646070\n",
            "\n",
            "Training XGB...\n",
            "Train time :15.220812559127808\n",
            "\n",
            "Training CAT...\n",
            "Train time :11.674485921859741\n",
            "\n",
            "Ensembling...\n"
          ],
          "name": "stdout"
        }
      ]
    },
    {
      "cell_type": "code",
      "metadata": {
        "colab": {
          "base_uri": "https://localhost:8080/",
          "height": 790
        },
        "id": "1w2Kkr0YKbJl",
        "outputId": "a8f36389-6c41-4770-da35-f084faa7dcbe"
      },
      "source": [
        "# path + filename\n",
        "test.predictions( 'test-data' ,'84c5fb9cc880_TGS')"
      ],
      "execution_count": null,
      "outputs": [
        {
          "output_type": "error",
          "ename": "ValueError",
          "evalue": "ignored",
          "traceback": [
            "\u001b[0;31m---------------------------------------------------------------------------\u001b[0m",
            "\u001b[0;31mValueError\u001b[0m                                Traceback (most recent call last)",
            "\u001b[0;32m<ipython-input-26-94644bcf6299>\u001b[0m in \u001b[0;36m<module>\u001b[0;34m()\u001b[0m\n\u001b[1;32m      1\u001b[0m \u001b[0;31m# path + filename\u001b[0m\u001b[0;34m\u001b[0m\u001b[0;34m\u001b[0m\u001b[0;34m\u001b[0m\u001b[0m\n\u001b[0;32m----> 2\u001b[0;31m \u001b[0mtest\u001b[0m\u001b[0;34m.\u001b[0m\u001b[0mpredictions\u001b[0m\u001b[0;34m(\u001b[0m \u001b[0;34m'test-data'\u001b[0m \u001b[0;34m,\u001b[0m\u001b[0;34m'84c5fb9cc880_TGS'\u001b[0m\u001b[0;34m)\u001b[0m\u001b[0;34m\u001b[0m\u001b[0;34m\u001b[0m\u001b[0m\n\u001b[0m",
            "\u001b[0;32m<ipython-input-10-6a4c802479f1>\u001b[0m in \u001b[0;36mpredictions\u001b[0;34m(self, folder_dir, filename)\u001b[0m\n\u001b[1;32m    146\u001b[0m       \u001b[0mx\u001b[0m \u001b[0;34m=\u001b[0m \u001b[0mx\u001b[0m\u001b[0;34m.\u001b[0m\u001b[0mindex\u001b[0m\u001b[0;34m\u001b[0m\u001b[0;34m\u001b[0m\u001b[0m\n\u001b[1;32m    147\u001b[0m       \u001b[0mx\u001b[0m \u001b[0;34m=\u001b[0m \u001b[0mpd\u001b[0m\u001b[0;34m.\u001b[0m\u001b[0mDataFrame\u001b[0m\u001b[0;34m(\u001b[0m\u001b[0mx\u001b[0m\u001b[0;34m)\u001b[0m\u001b[0;34m\u001b[0m\u001b[0;34m\u001b[0m\u001b[0m\n\u001b[0;32m--> 148\u001b[0;31m       \u001b[0mx\u001b[0m\u001b[0;34m[\u001b[0m\u001b[0;34m'DTSM'\u001b[0m\u001b[0;34m]\u001b[0m \u001b[0;34m=\u001b[0m \u001b[0mself\u001b[0m\u001b[0;34m.\u001b[0m\u001b[0mpreds\u001b[0m\u001b[0;34m\u001b[0m\u001b[0;34m\u001b[0m\u001b[0m\n\u001b[0m\u001b[1;32m    149\u001b[0m       \u001b[0mx\u001b[0m\u001b[0;34m.\u001b[0m\u001b[0mcolumns\u001b[0m \u001b[0;34m=\u001b[0m \u001b[0;34m[\u001b[0m\u001b[0;34m'Depth'\u001b[0m\u001b[0;34m,\u001b[0m \u001b[0;34m'DTSM'\u001b[0m\u001b[0;34m]\u001b[0m\u001b[0;34m\u001b[0m\u001b[0;34m\u001b[0m\u001b[0m\n\u001b[1;32m    150\u001b[0m       \u001b[0mprint\u001b[0m\u001b[0;34m(\u001b[0m\u001b[0mx\u001b[0m\u001b[0;34m.\u001b[0m\u001b[0mhead\u001b[0m\u001b[0;34m(\u001b[0m\u001b[0;34m)\u001b[0m\u001b[0;34m)\u001b[0m\u001b[0;34m\u001b[0m\u001b[0;34m\u001b[0m\u001b[0m\n",
            "\u001b[0;32m/usr/local/lib/python3.7/dist-packages/pandas/core/frame.py\u001b[0m in \u001b[0;36m__setitem__\u001b[0;34m(self, key, value)\u001b[0m\n\u001b[1;32m   3042\u001b[0m         \u001b[0;32melse\u001b[0m\u001b[0;34m:\u001b[0m\u001b[0;34m\u001b[0m\u001b[0;34m\u001b[0m\u001b[0m\n\u001b[1;32m   3043\u001b[0m             \u001b[0;31m# set column\u001b[0m\u001b[0;34m\u001b[0m\u001b[0;34m\u001b[0m\u001b[0;34m\u001b[0m\u001b[0m\n\u001b[0;32m-> 3044\u001b[0;31m             \u001b[0mself\u001b[0m\u001b[0;34m.\u001b[0m\u001b[0m_set_item\u001b[0m\u001b[0;34m(\u001b[0m\u001b[0mkey\u001b[0m\u001b[0;34m,\u001b[0m \u001b[0mvalue\u001b[0m\u001b[0;34m)\u001b[0m\u001b[0;34m\u001b[0m\u001b[0;34m\u001b[0m\u001b[0m\n\u001b[0m\u001b[1;32m   3045\u001b[0m \u001b[0;34m\u001b[0m\u001b[0m\n\u001b[1;32m   3046\u001b[0m     \u001b[0;32mdef\u001b[0m \u001b[0m_setitem_slice\u001b[0m\u001b[0;34m(\u001b[0m\u001b[0mself\u001b[0m\u001b[0;34m,\u001b[0m \u001b[0mkey\u001b[0m\u001b[0;34m:\u001b[0m \u001b[0mslice\u001b[0m\u001b[0;34m,\u001b[0m \u001b[0mvalue\u001b[0m\u001b[0;34m)\u001b[0m\u001b[0;34m:\u001b[0m\u001b[0;34m\u001b[0m\u001b[0;34m\u001b[0m\u001b[0m\n",
            "\u001b[0;32m/usr/local/lib/python3.7/dist-packages/pandas/core/frame.py\u001b[0m in \u001b[0;36m_set_item\u001b[0;34m(self, key, value)\u001b[0m\n\u001b[1;32m   3118\u001b[0m         \"\"\"\n\u001b[1;32m   3119\u001b[0m         \u001b[0mself\u001b[0m\u001b[0;34m.\u001b[0m\u001b[0m_ensure_valid_index\u001b[0m\u001b[0;34m(\u001b[0m\u001b[0mvalue\u001b[0m\u001b[0;34m)\u001b[0m\u001b[0;34m\u001b[0m\u001b[0;34m\u001b[0m\u001b[0m\n\u001b[0;32m-> 3120\u001b[0;31m         \u001b[0mvalue\u001b[0m \u001b[0;34m=\u001b[0m \u001b[0mself\u001b[0m\u001b[0;34m.\u001b[0m\u001b[0m_sanitize_column\u001b[0m\u001b[0;34m(\u001b[0m\u001b[0mkey\u001b[0m\u001b[0;34m,\u001b[0m \u001b[0mvalue\u001b[0m\u001b[0;34m)\u001b[0m\u001b[0;34m\u001b[0m\u001b[0;34m\u001b[0m\u001b[0m\n\u001b[0m\u001b[1;32m   3121\u001b[0m         \u001b[0mNDFrame\u001b[0m\u001b[0;34m.\u001b[0m\u001b[0m_set_item\u001b[0m\u001b[0;34m(\u001b[0m\u001b[0mself\u001b[0m\u001b[0;34m,\u001b[0m \u001b[0mkey\u001b[0m\u001b[0;34m,\u001b[0m \u001b[0mvalue\u001b[0m\u001b[0;34m)\u001b[0m\u001b[0;34m\u001b[0m\u001b[0;34m\u001b[0m\u001b[0m\n\u001b[1;32m   3122\u001b[0m \u001b[0;34m\u001b[0m\u001b[0m\n",
            "\u001b[0;32m/usr/local/lib/python3.7/dist-packages/pandas/core/frame.py\u001b[0m in \u001b[0;36m_sanitize_column\u001b[0;34m(self, key, value, broadcast)\u001b[0m\n\u001b[1;32m   3766\u001b[0m \u001b[0;34m\u001b[0m\u001b[0m\n\u001b[1;32m   3767\u001b[0m             \u001b[0;31m# turn me into an ndarray\u001b[0m\u001b[0;34m\u001b[0m\u001b[0;34m\u001b[0m\u001b[0;34m\u001b[0m\u001b[0m\n\u001b[0;32m-> 3768\u001b[0;31m             \u001b[0mvalue\u001b[0m \u001b[0;34m=\u001b[0m \u001b[0msanitize_index\u001b[0m\u001b[0;34m(\u001b[0m\u001b[0mvalue\u001b[0m\u001b[0;34m,\u001b[0m \u001b[0mself\u001b[0m\u001b[0;34m.\u001b[0m\u001b[0mindex\u001b[0m\u001b[0;34m)\u001b[0m\u001b[0;34m\u001b[0m\u001b[0;34m\u001b[0m\u001b[0m\n\u001b[0m\u001b[1;32m   3769\u001b[0m             \u001b[0;32mif\u001b[0m \u001b[0;32mnot\u001b[0m \u001b[0misinstance\u001b[0m\u001b[0;34m(\u001b[0m\u001b[0mvalue\u001b[0m\u001b[0;34m,\u001b[0m \u001b[0;34m(\u001b[0m\u001b[0mnp\u001b[0m\u001b[0;34m.\u001b[0m\u001b[0mndarray\u001b[0m\u001b[0;34m,\u001b[0m \u001b[0mIndex\u001b[0m\u001b[0;34m)\u001b[0m\u001b[0;34m)\u001b[0m\u001b[0;34m:\u001b[0m\u001b[0;34m\u001b[0m\u001b[0;34m\u001b[0m\u001b[0m\n\u001b[1;32m   3770\u001b[0m                 \u001b[0;32mif\u001b[0m \u001b[0misinstance\u001b[0m\u001b[0;34m(\u001b[0m\u001b[0mvalue\u001b[0m\u001b[0;34m,\u001b[0m \u001b[0mlist\u001b[0m\u001b[0;34m)\u001b[0m \u001b[0;32mand\u001b[0m \u001b[0mlen\u001b[0m\u001b[0;34m(\u001b[0m\u001b[0mvalue\u001b[0m\u001b[0;34m)\u001b[0m \u001b[0;34m>\u001b[0m \u001b[0;36m0\u001b[0m\u001b[0;34m:\u001b[0m\u001b[0;34m\u001b[0m\u001b[0;34m\u001b[0m\u001b[0m\n",
            "\u001b[0;32m/usr/local/lib/python3.7/dist-packages/pandas/core/internals/construction.py\u001b[0m in \u001b[0;36msanitize_index\u001b[0;34m(data, index)\u001b[0m\n\u001b[1;32m    746\u001b[0m     \u001b[0;32mif\u001b[0m \u001b[0mlen\u001b[0m\u001b[0;34m(\u001b[0m\u001b[0mdata\u001b[0m\u001b[0;34m)\u001b[0m \u001b[0;34m!=\u001b[0m \u001b[0mlen\u001b[0m\u001b[0;34m(\u001b[0m\u001b[0mindex\u001b[0m\u001b[0;34m)\u001b[0m\u001b[0;34m:\u001b[0m\u001b[0;34m\u001b[0m\u001b[0;34m\u001b[0m\u001b[0m\n\u001b[1;32m    747\u001b[0m         raise ValueError(\n\u001b[0;32m--> 748\u001b[0;31m             \u001b[0;34m\"Length of values \"\u001b[0m\u001b[0;34m\u001b[0m\u001b[0;34m\u001b[0m\u001b[0m\n\u001b[0m\u001b[1;32m    749\u001b[0m             \u001b[0;34mf\"({len(data)}) \"\u001b[0m\u001b[0;34m\u001b[0m\u001b[0;34m\u001b[0m\u001b[0m\n\u001b[1;32m    750\u001b[0m             \u001b[0;34m\"does not match length of index \"\u001b[0m\u001b[0;34m\u001b[0m\u001b[0;34m\u001b[0m\u001b[0m\n",
            "\u001b[0;31mValueError\u001b[0m: Length of values (1297) does not match length of index (1291)"
          ]
        }
      ]
    },
    {
      "cell_type": "markdown",
      "metadata": {
        "id": "cIdPDk_KJ6xS"
      },
      "source": [
        "# Train Folder"
      ]
    },
    {
      "cell_type": "code",
      "metadata": {
        "id": "_GRusb45J66t"
      },
      "source": [
        "test_dir = 'wellF'\n",
        "output_dir = 'outputwellf'"
      ],
      "execution_count": null,
      "outputs": []
    },
    {
      "cell_type": "code",
      "metadata": {
        "id": "6-sZMGhALk9r"
      },
      "source": [
        "drop_col_dict = dict()"
      ],
      "execution_count": null,
      "outputs": []
    },
    {
      "cell_type": "code",
      "metadata": {
        "colab": {
          "base_uri": "https://localhost:8080/",
          "height": 135
        },
        "id": "1uUe1XqYJNBG",
        "outputId": "23ffa83b-4f54-489f-98d6-e7faa611d820"
      },
      "source": [
        "files = os.listdir(test_dir)\n",
        "if not os.path.exists(output_dir):\n",
        "    os.makedirs(output_dir)\n",
        "\n",
        "for filename in files:\n",
        "\n",
        "  drop_col = []\n",
        "  if filename in list( drop_col_dict.keys() ):\n",
        "    drop_col = drop_col_dict[filename]\n",
        "\n",
        "  test = WellLog( test_dir + '/' + filename , alias_dict, data, valid=1, drop_col  )\n",
        "  test.train()\n",
        "  test.predictions()"
      ],
      "execution_count": null,
      "outputs": [
        {
          "output_type": "error",
          "ename": "SyntaxError",
          "evalue": "ignored",
          "traceback": [
            "\u001b[0;36m  File \u001b[0;32m\"<ipython-input-71-472a5ecdd943>\"\u001b[0;36m, line \u001b[0;32m5\u001b[0m\n\u001b[0;31m    for filename in files:\u001b[0m\n\u001b[0m                          ^\u001b[0m\n\u001b[0;31mSyntaxError\u001b[0m\u001b[0;31m:\u001b[0m unexpected EOF while parsing\n"
          ]
        }
      ]
    },
    {
      "cell_type": "markdown",
      "metadata": {
        "id": "tAKoLNLDIsoR"
      },
      "source": [
        "#sfd"
      ]
    },
    {
      "cell_type": "code",
      "metadata": {
        "id": "WBG8rdL_Is_w"
      },
      "source": [
        "x = [  \n",
        "\n",
        "'63250f7d463b_TGS.las',\n",
        "'638f2cc65681_TGS.las',\n",
        "'fca03aa6acde_TGS.las',\n",
        "'3369b6f8fb6f_TGS.las',\n",
        "'8e37531ba266_TGS.las',\n",
        "'eed1e9537976_TGS.las',\n",
        "'113412eec2a6_TGS.las',\n",
        "'ff7845ea074d_TGS.las',\n",
        "'34a80ab7a5fa_TGS.las',\n",
        "'7595ba9fb314_TGS.las',\n",
        "'2f96a5f92418_TGS.las',\n",
        "'1684cc35f399_TGS.las',\n",
        "\n",
        "]"
      ],
      "execution_count": null,
      "outputs": []
    },
    {
      "cell_type": "code",
      "metadata": {
        "colab": {
          "base_uri": "https://localhost:8080/"
        },
        "id": "xzhNflryI3JV",
        "outputId": "d19bd942-fdcf-4573-a117-17349532f4c9"
      },
      "source": [
        "!mkdir predict"
      ],
      "execution_count": null,
      "outputs": [
        {
          "output_type": "stream",
          "text": [
            "mkdir: cannot create directory ‘predict’: File exists\n"
          ],
          "name": "stdout"
        }
      ]
    },
    {
      "cell_type": "code",
      "metadata": {
        "id": "gvrY06yPIyp4"
      },
      "source": [
        "import shutil\n",
        "\n",
        "for a in x:\n",
        "  shutil.copy( a[:-4] + '.xlsx' , 'predict/' + a[:-4] + '.xlsx'  )"
      ],
      "execution_count": null,
      "outputs": []
    },
    {
      "cell_type": "code",
      "metadata": {
        "colab": {
          "base_uri": "https://localhost:8080/",
          "height": 35
        },
        "id": "EsWu9edaJF8k",
        "outputId": "1e0dda59-a53e-42bd-aef9-9094fa6642cd"
      },
      "source": [
        "shutil.make_archive( 'predict', 'zip', '/content/predict')"
      ],
      "execution_count": null,
      "outputs": [
        {
          "output_type": "execute_result",
          "data": {
            "application/vnd.google.colaboratory.intrinsic+json": {
              "type": "string"
            },
            "text/plain": [
              "'/content/predict.zip'"
            ]
          },
          "metadata": {
            "tags": []
          },
          "execution_count": 94
        }
      ]
    },
    {
      "cell_type": "code",
      "metadata": {
        "id": "_vtuxIIFJTVt"
      },
      "source": [
        "x = lasio.read('test-data/' +'84c5fb9cc880_TGS.las').df()"
      ],
      "execution_count": null,
      "outputs": []
    },
    {
      "cell_type": "code",
      "metadata": {
        "colab": {
          "base_uri": "https://localhost:8080/",
          "height": 431
        },
        "id": "Dr1xYwB4JpGn",
        "outputId": "a7aca75b-cf53-4eba-9d46-14586c0288d8"
      },
      "source": [
        "x"
      ],
      "execution_count": null,
      "outputs": [
        {
          "output_type": "execute_result",
          "data": {
            "text/html": [
              "<div>\n",
              "<style scoped>\n",
              "    .dataframe tbody tr th:only-of-type {\n",
              "        vertical-align: middle;\n",
              "    }\n",
              "\n",
              "    .dataframe tbody tr th {\n",
              "        vertical-align: top;\n",
              "    }\n",
              "\n",
              "    .dataframe thead th {\n",
              "        text-align: right;\n",
              "    }\n",
              "</style>\n",
              "<table border=\"1\" class=\"dataframe\">\n",
              "  <thead>\n",
              "    <tr style=\"text-align: right;\">\n",
              "      <th></th>\n",
              "      <th>NPHI_LS</th>\n",
              "      <th>DTCO</th>\n",
              "      <th>PEFZ</th>\n",
              "      <th>DPHZ_LS</th>\n",
              "      <th>HCALD</th>\n",
              "      <th>HDRA</th>\n",
              "      <th>RHOZ</th>\n",
              "      <th>DRH</th>\n",
              "      <th>LCALD</th>\n",
              "      <th>DPO_LS</th>\n",
              "      <th>RHOM</th>\n",
              "      <th>GRR</th>\n",
              "      <th>ILD</th>\n",
              "      <th>ILM</th>\n",
              "      <th>SFLU</th>\n",
              "      <th>SPR</th>\n",
              "      <th>IDPH</th>\n",
              "      <th>IMPH</th>\n",
              "    </tr>\n",
              "    <tr>\n",
              "      <th>DEPT</th>\n",
              "      <th></th>\n",
              "      <th></th>\n",
              "      <th></th>\n",
              "      <th></th>\n",
              "      <th></th>\n",
              "      <th></th>\n",
              "      <th></th>\n",
              "      <th></th>\n",
              "      <th></th>\n",
              "      <th></th>\n",
              "      <th></th>\n",
              "      <th></th>\n",
              "      <th></th>\n",
              "      <th></th>\n",
              "      <th></th>\n",
              "      <th></th>\n",
              "      <th></th>\n",
              "      <th></th>\n",
              "    </tr>\n",
              "  </thead>\n",
              "  <tbody>\n",
              "    <tr>\n",
              "      <th>16002.0</th>\n",
              "      <td>0.2363</td>\n",
              "      <td>99.2047</td>\n",
              "      <td>NaN</td>\n",
              "      <td>NaN</td>\n",
              "      <td>NaN</td>\n",
              "      <td>NaN</td>\n",
              "      <td>NaN</td>\n",
              "      <td>-0.0098</td>\n",
              "      <td>6.1436</td>\n",
              "      <td>0.0372</td>\n",
              "      <td>2.6473</td>\n",
              "      <td>91.1068</td>\n",
              "      <td>NaN</td>\n",
              "      <td>NaN</td>\n",
              "      <td>NaN</td>\n",
              "      <td>-36.1476</td>\n",
              "      <td>157.7764</td>\n",
              "      <td>2014.8407</td>\n",
              "    </tr>\n",
              "    <tr>\n",
              "      <th>16002.5</th>\n",
              "      <td>0.2400</td>\n",
              "      <td>96.7596</td>\n",
              "      <td>NaN</td>\n",
              "      <td>NaN</td>\n",
              "      <td>NaN</td>\n",
              "      <td>NaN</td>\n",
              "      <td>NaN</td>\n",
              "      <td>-0.0071</td>\n",
              "      <td>6.1390</td>\n",
              "      <td>0.0350</td>\n",
              "      <td>2.6496</td>\n",
              "      <td>92.4773</td>\n",
              "      <td>NaN</td>\n",
              "      <td>NaN</td>\n",
              "      <td>NaN</td>\n",
              "      <td>-37.1441</td>\n",
              "      <td>1979.7109</td>\n",
              "      <td>2008.0165</td>\n",
              "    </tr>\n",
              "    <tr>\n",
              "      <th>16003.0</th>\n",
              "      <td>0.2357</td>\n",
              "      <td>94.3550</td>\n",
              "      <td>NaN</td>\n",
              "      <td>NaN</td>\n",
              "      <td>NaN</td>\n",
              "      <td>NaN</td>\n",
              "      <td>NaN</td>\n",
              "      <td>-0.0067</td>\n",
              "      <td>6.1405</td>\n",
              "      <td>0.0352</td>\n",
              "      <td>2.6494</td>\n",
              "      <td>90.9638</td>\n",
              "      <td>NaN</td>\n",
              "      <td>NaN</td>\n",
              "      <td>NaN</td>\n",
              "      <td>-35.3410</td>\n",
              "      <td>1.9868</td>\n",
              "      <td>258.0079</td>\n",
              "    </tr>\n",
              "    <tr>\n",
              "      <th>16003.5</th>\n",
              "      <td>0.2263</td>\n",
              "      <td>93.4000</td>\n",
              "      <td>NaN</td>\n",
              "      <td>NaN</td>\n",
              "      <td>NaN</td>\n",
              "      <td>NaN</td>\n",
              "      <td>NaN</td>\n",
              "      <td>-0.0071</td>\n",
              "      <td>6.1447</td>\n",
              "      <td>0.0377</td>\n",
              "      <td>2.6472</td>\n",
              "      <td>89.6819</td>\n",
              "      <td>NaN</td>\n",
              "      <td>NaN</td>\n",
              "      <td>NaN</td>\n",
              "      <td>-32.7398</td>\n",
              "      <td>0.3409</td>\n",
              "      <td>3.1843</td>\n",
              "    </tr>\n",
              "    <tr>\n",
              "      <th>16004.0</th>\n",
              "      <td>0.2279</td>\n",
              "      <td>93.0141</td>\n",
              "      <td>NaN</td>\n",
              "      <td>NaN</td>\n",
              "      <td>NaN</td>\n",
              "      <td>NaN</td>\n",
              "      <td>NaN</td>\n",
              "      <td>-0.0079</td>\n",
              "      <td>6.1431</td>\n",
              "      <td>0.0431</td>\n",
              "      <td>2.6369</td>\n",
              "      <td>89.0719</td>\n",
              "      <td>NaN</td>\n",
              "      <td>NaN</td>\n",
              "      <td>NaN</td>\n",
              "      <td>-33.3049</td>\n",
              "      <td>0.3836</td>\n",
              "      <td>1.0418</td>\n",
              "    </tr>\n",
              "    <tr>\n",
              "      <th>...</th>\n",
              "      <td>...</td>\n",
              "      <td>...</td>\n",
              "      <td>...</td>\n",
              "      <td>...</td>\n",
              "      <td>...</td>\n",
              "      <td>...</td>\n",
              "      <td>...</td>\n",
              "      <td>...</td>\n",
              "      <td>...</td>\n",
              "      <td>...</td>\n",
              "      <td>...</td>\n",
              "      <td>...</td>\n",
              "      <td>...</td>\n",
              "      <td>...</td>\n",
              "      <td>...</td>\n",
              "      <td>...</td>\n",
              "      <td>...</td>\n",
              "      <td>...</td>\n",
              "    </tr>\n",
              "    <tr>\n",
              "      <th>16648.0</th>\n",
              "      <td>0.2224</td>\n",
              "      <td>85.5078</td>\n",
              "      <td>NaN</td>\n",
              "      <td>NaN</td>\n",
              "      <td>NaN</td>\n",
              "      <td>NaN</td>\n",
              "      <td>NaN</td>\n",
              "      <td>-0.0013</td>\n",
              "      <td>6.2277</td>\n",
              "      <td>0.0229</td>\n",
              "      <td>2.6725</td>\n",
              "      <td>97.8318</td>\n",
              "      <td>NaN</td>\n",
              "      <td>NaN</td>\n",
              "      <td>NaN</td>\n",
              "      <td>-96.4592</td>\n",
              "      <td>2.8262</td>\n",
              "      <td>3.3699</td>\n",
              "    </tr>\n",
              "    <tr>\n",
              "      <th>16648.5</th>\n",
              "      <td>0.2221</td>\n",
              "      <td>84.4351</td>\n",
              "      <td>NaN</td>\n",
              "      <td>NaN</td>\n",
              "      <td>NaN</td>\n",
              "      <td>NaN</td>\n",
              "      <td>NaN</td>\n",
              "      <td>-0.0016</td>\n",
              "      <td>6.2274</td>\n",
              "      <td>0.0230</td>\n",
              "      <td>2.6740</td>\n",
              "      <td>98.4990</td>\n",
              "      <td>NaN</td>\n",
              "      <td>NaN</td>\n",
              "      <td>NaN</td>\n",
              "      <td>-95.9137</td>\n",
              "      <td>2.8439</td>\n",
              "      <td>3.4092</td>\n",
              "    </tr>\n",
              "    <tr>\n",
              "      <th>16649.0</th>\n",
              "      <td>0.2216</td>\n",
              "      <td>83.4179</td>\n",
              "      <td>NaN</td>\n",
              "      <td>NaN</td>\n",
              "      <td>NaN</td>\n",
              "      <td>NaN</td>\n",
              "      <td>NaN</td>\n",
              "      <td>-0.0032</td>\n",
              "      <td>6.2272</td>\n",
              "      <td>0.0256</td>\n",
              "      <td>2.6619</td>\n",
              "      <td>99.6007</td>\n",
              "      <td>NaN</td>\n",
              "      <td>NaN</td>\n",
              "      <td>NaN</td>\n",
              "      <td>-96.2981</td>\n",
              "      <td>2.8721</td>\n",
              "      <td>3.2621</td>\n",
              "    </tr>\n",
              "    <tr>\n",
              "      <th>16649.5</th>\n",
              "      <td>0.2218</td>\n",
              "      <td>83.2267</td>\n",
              "      <td>NaN</td>\n",
              "      <td>NaN</td>\n",
              "      <td>NaN</td>\n",
              "      <td>NaN</td>\n",
              "      <td>NaN</td>\n",
              "      <td>-0.0040</td>\n",
              "      <td>6.2274</td>\n",
              "      <td>0.0298</td>\n",
              "      <td>2.6619</td>\n",
              "      <td>99.0798</td>\n",
              "      <td>NaN</td>\n",
              "      <td>NaN</td>\n",
              "      <td>NaN</td>\n",
              "      <td>-96.7583</td>\n",
              "      <td>2.7802</td>\n",
              "      <td>2.8537</td>\n",
              "    </tr>\n",
              "    <tr>\n",
              "      <th>16650.0</th>\n",
              "      <td>0.2191</td>\n",
              "      <td>84.2989</td>\n",
              "      <td>NaN</td>\n",
              "      <td>NaN</td>\n",
              "      <td>NaN</td>\n",
              "      <td>NaN</td>\n",
              "      <td>NaN</td>\n",
              "      <td>-0.0040</td>\n",
              "      <td>6.2253</td>\n",
              "      <td>0.0292</td>\n",
              "      <td>2.6668</td>\n",
              "      <td>95.9810</td>\n",
              "      <td>NaN</td>\n",
              "      <td>NaN</td>\n",
              "      <td>NaN</td>\n",
              "      <td>-96.9086</td>\n",
              "      <td>2.6622</td>\n",
              "      <td>2.4964</td>\n",
              "    </tr>\n",
              "  </tbody>\n",
              "</table>\n",
              "<p>1291 rows × 18 columns</p>\n",
              "</div>"
            ],
            "text/plain": [
              "         NPHI_LS     DTCO  PEFZ  DPHZ_LS  ...  SFLU      SPR       IDPH       IMPH\n",
              "DEPT                                      ...                                     \n",
              "16002.0   0.2363  99.2047   NaN      NaN  ...   NaN -36.1476   157.7764  2014.8407\n",
              "16002.5   0.2400  96.7596   NaN      NaN  ...   NaN -37.1441  1979.7109  2008.0165\n",
              "16003.0   0.2357  94.3550   NaN      NaN  ...   NaN -35.3410     1.9868   258.0079\n",
              "16003.5   0.2263  93.4000   NaN      NaN  ...   NaN -32.7398     0.3409     3.1843\n",
              "16004.0   0.2279  93.0141   NaN      NaN  ...   NaN -33.3049     0.3836     1.0418\n",
              "...          ...      ...   ...      ...  ...   ...      ...        ...        ...\n",
              "16648.0   0.2224  85.5078   NaN      NaN  ...   NaN -96.4592     2.8262     3.3699\n",
              "16648.5   0.2221  84.4351   NaN      NaN  ...   NaN -95.9137     2.8439     3.4092\n",
              "16649.0   0.2216  83.4179   NaN      NaN  ...   NaN -96.2981     2.8721     3.2621\n",
              "16649.5   0.2218  83.2267   NaN      NaN  ...   NaN -96.7583     2.7802     2.8537\n",
              "16650.0   0.2191  84.2989   NaN      NaN  ...   NaN -96.9086     2.6622     2.4964\n",
              "\n",
              "[1291 rows x 18 columns]"
            ]
          },
          "metadata": {
            "tags": []
          },
          "execution_count": 96
        }
      ]
    },
    {
      "cell_type": "code",
      "metadata": {
        "colab": {
          "base_uri": "https://localhost:8080/"
        },
        "id": "ETolxGE3Jvl1",
        "outputId": "14db35d6-8991-4d43-efc9-1af3565e7124"
      },
      "source": [
        "p = Project.from_las('test-data/' +'84c5fb9cc880_TGS.las')\n",
        "y = p.df(keys = list(alias_dict[0].keys()),\n",
        "                    alias= alias_dict[0] )\n",
        "y.dropna(axis = 0, how = 'all')\n",
        "y['DEC_NP']"
      ],
      "execution_count": null,
      "outputs": [
        {
          "output_type": "stream",
          "text": [
            "1it [00:00, 12.40it/s]\n"
          ],
          "name": "stderr"
        },
        {
          "output_type": "execute_result",
          "data": {
            "text/plain": [
              "UWI  Depth    \n",
              "     4877.4096    0.2363\n",
              "     4877.5620    0.2400\n",
              "     4877.7144    0.2357\n",
              "     4877.8668    0.2263\n",
              "     4878.0192    0.2279\n",
              "                   ...  \n",
              "     5074.3104    0.2224\n",
              "     5074.4628    0.2221\n",
              "     5074.6152    0.2216\n",
              "     5074.7676    0.2218\n",
              "     5074.9200    0.2191\n",
              "Name: DEC_NP, Length: 1297, dtype: float64"
            ]
          },
          "metadata": {
            "tags": []
          },
          "execution_count": 97
        }
      ]
    },
    {
      "cell_type": "code",
      "metadata": {
        "id": "RplAy4dsO1TM"
      },
      "source": [
        ""
      ],
      "execution_count": null,
      "outputs": []
    },
    {
      "cell_type": "code",
      "metadata": {
        "colab": {
          "base_uri": "https://localhost:8080/",
          "height": 431
        },
        "id": "gefZVsTbJzBA",
        "outputId": "100fe275-b95c-4d9d-ecb7-3a4fdbb14a8f"
      },
      "source": [
        "x = lasio.read('test-data/' + '84c5fb9cc880_TGS.las' ).df()\n",
        "x.dropna(axis = 0, how = 'all')"
      ],
      "execution_count": null,
      "outputs": [
        {
          "output_type": "execute_result",
          "data": {
            "text/html": [
              "<div>\n",
              "<style scoped>\n",
              "    .dataframe tbody tr th:only-of-type {\n",
              "        vertical-align: middle;\n",
              "    }\n",
              "\n",
              "    .dataframe tbody tr th {\n",
              "        vertical-align: top;\n",
              "    }\n",
              "\n",
              "    .dataframe thead th {\n",
              "        text-align: right;\n",
              "    }\n",
              "</style>\n",
              "<table border=\"1\" class=\"dataframe\">\n",
              "  <thead>\n",
              "    <tr style=\"text-align: right;\">\n",
              "      <th></th>\n",
              "      <th>NPHI_LS</th>\n",
              "      <th>DTCO</th>\n",
              "      <th>PEFZ</th>\n",
              "      <th>DPHZ_LS</th>\n",
              "      <th>HCALD</th>\n",
              "      <th>HDRA</th>\n",
              "      <th>RHOZ</th>\n",
              "      <th>DRH</th>\n",
              "      <th>LCALD</th>\n",
              "      <th>DPO_LS</th>\n",
              "      <th>RHOM</th>\n",
              "      <th>GRR</th>\n",
              "      <th>ILD</th>\n",
              "      <th>ILM</th>\n",
              "      <th>SFLU</th>\n",
              "      <th>SPR</th>\n",
              "      <th>IDPH</th>\n",
              "      <th>IMPH</th>\n",
              "    </tr>\n",
              "    <tr>\n",
              "      <th>DEPT</th>\n",
              "      <th></th>\n",
              "      <th></th>\n",
              "      <th></th>\n",
              "      <th></th>\n",
              "      <th></th>\n",
              "      <th></th>\n",
              "      <th></th>\n",
              "      <th></th>\n",
              "      <th></th>\n",
              "      <th></th>\n",
              "      <th></th>\n",
              "      <th></th>\n",
              "      <th></th>\n",
              "      <th></th>\n",
              "      <th></th>\n",
              "      <th></th>\n",
              "      <th></th>\n",
              "      <th></th>\n",
              "    </tr>\n",
              "  </thead>\n",
              "  <tbody>\n",
              "    <tr>\n",
              "      <th>16002.0</th>\n",
              "      <td>0.2363</td>\n",
              "      <td>99.2047</td>\n",
              "      <td>NaN</td>\n",
              "      <td>NaN</td>\n",
              "      <td>NaN</td>\n",
              "      <td>NaN</td>\n",
              "      <td>NaN</td>\n",
              "      <td>-0.0098</td>\n",
              "      <td>6.1436</td>\n",
              "      <td>0.0372</td>\n",
              "      <td>2.6473</td>\n",
              "      <td>91.1068</td>\n",
              "      <td>NaN</td>\n",
              "      <td>NaN</td>\n",
              "      <td>NaN</td>\n",
              "      <td>-36.1476</td>\n",
              "      <td>157.7764</td>\n",
              "      <td>2014.8407</td>\n",
              "    </tr>\n",
              "    <tr>\n",
              "      <th>16002.5</th>\n",
              "      <td>0.2400</td>\n",
              "      <td>96.7596</td>\n",
              "      <td>NaN</td>\n",
              "      <td>NaN</td>\n",
              "      <td>NaN</td>\n",
              "      <td>NaN</td>\n",
              "      <td>NaN</td>\n",
              "      <td>-0.0071</td>\n",
              "      <td>6.1390</td>\n",
              "      <td>0.0350</td>\n",
              "      <td>2.6496</td>\n",
              "      <td>92.4773</td>\n",
              "      <td>NaN</td>\n",
              "      <td>NaN</td>\n",
              "      <td>NaN</td>\n",
              "      <td>-37.1441</td>\n",
              "      <td>1979.7109</td>\n",
              "      <td>2008.0165</td>\n",
              "    </tr>\n",
              "    <tr>\n",
              "      <th>16003.0</th>\n",
              "      <td>0.2357</td>\n",
              "      <td>94.3550</td>\n",
              "      <td>NaN</td>\n",
              "      <td>NaN</td>\n",
              "      <td>NaN</td>\n",
              "      <td>NaN</td>\n",
              "      <td>NaN</td>\n",
              "      <td>-0.0067</td>\n",
              "      <td>6.1405</td>\n",
              "      <td>0.0352</td>\n",
              "      <td>2.6494</td>\n",
              "      <td>90.9638</td>\n",
              "      <td>NaN</td>\n",
              "      <td>NaN</td>\n",
              "      <td>NaN</td>\n",
              "      <td>-35.3410</td>\n",
              "      <td>1.9868</td>\n",
              "      <td>258.0079</td>\n",
              "    </tr>\n",
              "    <tr>\n",
              "      <th>16003.5</th>\n",
              "      <td>0.2263</td>\n",
              "      <td>93.4000</td>\n",
              "      <td>NaN</td>\n",
              "      <td>NaN</td>\n",
              "      <td>NaN</td>\n",
              "      <td>NaN</td>\n",
              "      <td>NaN</td>\n",
              "      <td>-0.0071</td>\n",
              "      <td>6.1447</td>\n",
              "      <td>0.0377</td>\n",
              "      <td>2.6472</td>\n",
              "      <td>89.6819</td>\n",
              "      <td>NaN</td>\n",
              "      <td>NaN</td>\n",
              "      <td>NaN</td>\n",
              "      <td>-32.7398</td>\n",
              "      <td>0.3409</td>\n",
              "      <td>3.1843</td>\n",
              "    </tr>\n",
              "    <tr>\n",
              "      <th>16004.0</th>\n",
              "      <td>0.2279</td>\n",
              "      <td>93.0141</td>\n",
              "      <td>NaN</td>\n",
              "      <td>NaN</td>\n",
              "      <td>NaN</td>\n",
              "      <td>NaN</td>\n",
              "      <td>NaN</td>\n",
              "      <td>-0.0079</td>\n",
              "      <td>6.1431</td>\n",
              "      <td>0.0431</td>\n",
              "      <td>2.6369</td>\n",
              "      <td>89.0719</td>\n",
              "      <td>NaN</td>\n",
              "      <td>NaN</td>\n",
              "      <td>NaN</td>\n",
              "      <td>-33.3049</td>\n",
              "      <td>0.3836</td>\n",
              "      <td>1.0418</td>\n",
              "    </tr>\n",
              "    <tr>\n",
              "      <th>...</th>\n",
              "      <td>...</td>\n",
              "      <td>...</td>\n",
              "      <td>...</td>\n",
              "      <td>...</td>\n",
              "      <td>...</td>\n",
              "      <td>...</td>\n",
              "      <td>...</td>\n",
              "      <td>...</td>\n",
              "      <td>...</td>\n",
              "      <td>...</td>\n",
              "      <td>...</td>\n",
              "      <td>...</td>\n",
              "      <td>...</td>\n",
              "      <td>...</td>\n",
              "      <td>...</td>\n",
              "      <td>...</td>\n",
              "      <td>...</td>\n",
              "      <td>...</td>\n",
              "    </tr>\n",
              "    <tr>\n",
              "      <th>16648.0</th>\n",
              "      <td>0.2224</td>\n",
              "      <td>85.5078</td>\n",
              "      <td>NaN</td>\n",
              "      <td>NaN</td>\n",
              "      <td>NaN</td>\n",
              "      <td>NaN</td>\n",
              "      <td>NaN</td>\n",
              "      <td>-0.0013</td>\n",
              "      <td>6.2277</td>\n",
              "      <td>0.0229</td>\n",
              "      <td>2.6725</td>\n",
              "      <td>97.8318</td>\n",
              "      <td>NaN</td>\n",
              "      <td>NaN</td>\n",
              "      <td>NaN</td>\n",
              "      <td>-96.4592</td>\n",
              "      <td>2.8262</td>\n",
              "      <td>3.3699</td>\n",
              "    </tr>\n",
              "    <tr>\n",
              "      <th>16648.5</th>\n",
              "      <td>0.2221</td>\n",
              "      <td>84.4351</td>\n",
              "      <td>NaN</td>\n",
              "      <td>NaN</td>\n",
              "      <td>NaN</td>\n",
              "      <td>NaN</td>\n",
              "      <td>NaN</td>\n",
              "      <td>-0.0016</td>\n",
              "      <td>6.2274</td>\n",
              "      <td>0.0230</td>\n",
              "      <td>2.6740</td>\n",
              "      <td>98.4990</td>\n",
              "      <td>NaN</td>\n",
              "      <td>NaN</td>\n",
              "      <td>NaN</td>\n",
              "      <td>-95.9137</td>\n",
              "      <td>2.8439</td>\n",
              "      <td>3.4092</td>\n",
              "    </tr>\n",
              "    <tr>\n",
              "      <th>16649.0</th>\n",
              "      <td>0.2216</td>\n",
              "      <td>83.4179</td>\n",
              "      <td>NaN</td>\n",
              "      <td>NaN</td>\n",
              "      <td>NaN</td>\n",
              "      <td>NaN</td>\n",
              "      <td>NaN</td>\n",
              "      <td>-0.0032</td>\n",
              "      <td>6.2272</td>\n",
              "      <td>0.0256</td>\n",
              "      <td>2.6619</td>\n",
              "      <td>99.6007</td>\n",
              "      <td>NaN</td>\n",
              "      <td>NaN</td>\n",
              "      <td>NaN</td>\n",
              "      <td>-96.2981</td>\n",
              "      <td>2.8721</td>\n",
              "      <td>3.2621</td>\n",
              "    </tr>\n",
              "    <tr>\n",
              "      <th>16649.5</th>\n",
              "      <td>0.2218</td>\n",
              "      <td>83.2267</td>\n",
              "      <td>NaN</td>\n",
              "      <td>NaN</td>\n",
              "      <td>NaN</td>\n",
              "      <td>NaN</td>\n",
              "      <td>NaN</td>\n",
              "      <td>-0.0040</td>\n",
              "      <td>6.2274</td>\n",
              "      <td>0.0298</td>\n",
              "      <td>2.6619</td>\n",
              "      <td>99.0798</td>\n",
              "      <td>NaN</td>\n",
              "      <td>NaN</td>\n",
              "      <td>NaN</td>\n",
              "      <td>-96.7583</td>\n",
              "      <td>2.7802</td>\n",
              "      <td>2.8537</td>\n",
              "    </tr>\n",
              "    <tr>\n",
              "      <th>16650.0</th>\n",
              "      <td>0.2191</td>\n",
              "      <td>84.2989</td>\n",
              "      <td>NaN</td>\n",
              "      <td>NaN</td>\n",
              "      <td>NaN</td>\n",
              "      <td>NaN</td>\n",
              "      <td>NaN</td>\n",
              "      <td>-0.0040</td>\n",
              "      <td>6.2253</td>\n",
              "      <td>0.0292</td>\n",
              "      <td>2.6668</td>\n",
              "      <td>95.9810</td>\n",
              "      <td>NaN</td>\n",
              "      <td>NaN</td>\n",
              "      <td>NaN</td>\n",
              "      <td>-96.9086</td>\n",
              "      <td>2.6622</td>\n",
              "      <td>2.4964</td>\n",
              "    </tr>\n",
              "  </tbody>\n",
              "</table>\n",
              "<p>1291 rows × 18 columns</p>\n",
              "</div>"
            ],
            "text/plain": [
              "         NPHI_LS     DTCO  PEFZ  DPHZ_LS  ...  SFLU      SPR       IDPH       IMPH\n",
              "DEPT                                      ...                                     \n",
              "16002.0   0.2363  99.2047   NaN      NaN  ...   NaN -36.1476   157.7764  2014.8407\n",
              "16002.5   0.2400  96.7596   NaN      NaN  ...   NaN -37.1441  1979.7109  2008.0165\n",
              "16003.0   0.2357  94.3550   NaN      NaN  ...   NaN -35.3410     1.9868   258.0079\n",
              "16003.5   0.2263  93.4000   NaN      NaN  ...   NaN -32.7398     0.3409     3.1843\n",
              "16004.0   0.2279  93.0141   NaN      NaN  ...   NaN -33.3049     0.3836     1.0418\n",
              "...          ...      ...   ...      ...  ...   ...      ...        ...        ...\n",
              "16648.0   0.2224  85.5078   NaN      NaN  ...   NaN -96.4592     2.8262     3.3699\n",
              "16648.5   0.2221  84.4351   NaN      NaN  ...   NaN -95.9137     2.8439     3.4092\n",
              "16649.0   0.2216  83.4179   NaN      NaN  ...   NaN -96.2981     2.8721     3.2621\n",
              "16649.5   0.2218  83.2267   NaN      NaN  ...   NaN -96.7583     2.7802     2.8537\n",
              "16650.0   0.2191  84.2989   NaN      NaN  ...   NaN -96.9086     2.6622     2.4964\n",
              "\n",
              "[1291 rows x 18 columns]"
            ]
          },
          "metadata": {
            "tags": []
          },
          "execution_count": 98
        }
      ]
    },
    {
      "cell_type": "code",
      "metadata": {
        "colab": {
          "base_uri": "https://localhost:8080/",
          "height": 303
        },
        "id": "bZsVi_f_J1By",
        "outputId": "16976e3b-2cff-4ccb-ffc3-602edab7464e"
      },
      "source": [
        "x['NPHI_LS'] == z['DEC_NP']"
      ],
      "execution_count": null,
      "outputs": [
        {
          "output_type": "error",
          "ename": "ValueError",
          "evalue": "ignored",
          "traceback": [
            "\u001b[0;31m---------------------------------------------------------------------------\u001b[0m",
            "\u001b[0;31mValueError\u001b[0m                                Traceback (most recent call last)",
            "\u001b[0;32m<ipython-input-99-a7b76bc06adf>\u001b[0m in \u001b[0;36m<module>\u001b[0;34m()\u001b[0m\n\u001b[0;32m----> 1\u001b[0;31m \u001b[0mx\u001b[0m\u001b[0;34m[\u001b[0m\u001b[0;34m'NPHI_LS'\u001b[0m\u001b[0;34m]\u001b[0m \u001b[0;34m==\u001b[0m \u001b[0mz\u001b[0m\u001b[0;34m[\u001b[0m\u001b[0;34m'DEC_NP'\u001b[0m\u001b[0;34m]\u001b[0m\u001b[0;34m\u001b[0m\u001b[0;34m\u001b[0m\u001b[0m\n\u001b[0m",
            "\u001b[0;32m/usr/local/lib/python3.7/dist-packages/pandas/core/ops/common.py\u001b[0m in \u001b[0;36mnew_method\u001b[0;34m(self, other)\u001b[0m\n\u001b[1;32m     63\u001b[0m         \u001b[0mother\u001b[0m \u001b[0;34m=\u001b[0m \u001b[0mitem_from_zerodim\u001b[0m\u001b[0;34m(\u001b[0m\u001b[0mother\u001b[0m\u001b[0;34m)\u001b[0m\u001b[0;34m\u001b[0m\u001b[0;34m\u001b[0m\u001b[0m\n\u001b[1;32m     64\u001b[0m \u001b[0;34m\u001b[0m\u001b[0m\n\u001b[0;32m---> 65\u001b[0;31m         \u001b[0;32mreturn\u001b[0m \u001b[0mmethod\u001b[0m\u001b[0;34m(\u001b[0m\u001b[0mself\u001b[0m\u001b[0;34m,\u001b[0m \u001b[0mother\u001b[0m\u001b[0;34m)\u001b[0m\u001b[0;34m\u001b[0m\u001b[0;34m\u001b[0m\u001b[0m\n\u001b[0m\u001b[1;32m     66\u001b[0m \u001b[0;34m\u001b[0m\u001b[0m\n\u001b[1;32m     67\u001b[0m     \u001b[0;32mreturn\u001b[0m \u001b[0mnew_method\u001b[0m\u001b[0;34m\u001b[0m\u001b[0;34m\u001b[0m\u001b[0m\n",
            "\u001b[0;32m/usr/local/lib/python3.7/dist-packages/pandas/core/ops/__init__.py\u001b[0m in \u001b[0;36mwrapper\u001b[0;34m(self, other)\u001b[0m\n\u001b[1;32m    363\u001b[0m \u001b[0;34m\u001b[0m\u001b[0m\n\u001b[1;32m    364\u001b[0m         \u001b[0;32mif\u001b[0m \u001b[0misinstance\u001b[0m\u001b[0;34m(\u001b[0m\u001b[0mother\u001b[0m\u001b[0;34m,\u001b[0m \u001b[0mABCSeries\u001b[0m\u001b[0;34m)\u001b[0m \u001b[0;32mand\u001b[0m \u001b[0;32mnot\u001b[0m \u001b[0mself\u001b[0m\u001b[0;34m.\u001b[0m\u001b[0m_indexed_same\u001b[0m\u001b[0;34m(\u001b[0m\u001b[0mother\u001b[0m\u001b[0;34m)\u001b[0m\u001b[0;34m:\u001b[0m\u001b[0;34m\u001b[0m\u001b[0;34m\u001b[0m\u001b[0m\n\u001b[0;32m--> 365\u001b[0;31m             \u001b[0;32mraise\u001b[0m \u001b[0mValueError\u001b[0m\u001b[0;34m(\u001b[0m\u001b[0;34m\"Can only compare identically-labeled Series objects\"\u001b[0m\u001b[0;34m)\u001b[0m\u001b[0;34m\u001b[0m\u001b[0;34m\u001b[0m\u001b[0m\n\u001b[0m\u001b[1;32m    366\u001b[0m \u001b[0;34m\u001b[0m\u001b[0m\n\u001b[1;32m    367\u001b[0m         \u001b[0mlvalues\u001b[0m \u001b[0;34m=\u001b[0m \u001b[0mextract_array\u001b[0m\u001b[0;34m(\u001b[0m\u001b[0mself\u001b[0m\u001b[0;34m,\u001b[0m \u001b[0mextract_numpy\u001b[0m\u001b[0;34m=\u001b[0m\u001b[0;32mTrue\u001b[0m\u001b[0;34m)\u001b[0m\u001b[0;34m\u001b[0m\u001b[0;34m\u001b[0m\u001b[0m\n",
            "\u001b[0;31mValueError\u001b[0m: Can only compare identically-labeled Series objects"
          ]
        }
      ]
    },
    {
      "cell_type": "code",
      "metadata": {
        "id": "OO6eeSqrKDI4"
      },
      "source": [
        "for i in range(len(x['NPHI_LS'])):\n",
        "  if x['NPHI_LS'][i] != 1:\n",
        "    print(i)"
      ],
      "execution_count": null,
      "outputs": []
    },
    {
      "cell_type": "code",
      "metadata": {
        "id": "D7dKWnahUGTe"
      },
      "source": [
        "a = x['NPHI_LS'].values"
      ],
      "execution_count": null,
      "outputs": []
    },
    {
      "cell_type": "code",
      "metadata": {
        "id": "M7y0cYrGOLd_"
      },
      "source": [
        "b = z['DEC_NP'].values"
      ],
      "execution_count": null,
      "outputs": []
    },
    {
      "cell_type": "code",
      "metadata": {
        "id": "-Lp1GNzzO3Dl"
      },
      "source": [
        "print(len(a))\n",
        "print(len(b))"
      ],
      "execution_count": null,
      "outputs": []
    },
    {
      "cell_type": "code",
      "metadata": {
        "id": "eWJV3WsqQn2k"
      },
      "source": [
        "print(a[3])\n",
        "print(b[3])"
      ],
      "execution_count": null,
      "outputs": []
    },
    {
      "cell_type": "code",
      "metadata": {
        "id": "MUcZQ0c-UfL8"
      },
      "source": [
        "for i in range(40):\n",
        "  print(a[i], b[i])"
      ],
      "execution_count": null,
      "outputs": []
    },
    {
      "cell_type": "code",
      "metadata": {
        "id": "vWMfOfU1VJpE"
      },
      "source": [
        "len(a)"
      ],
      "execution_count": null,
      "outputs": []
    },
    {
      "cell_type": "code",
      "metadata": {
        "id": "si_hAP_1Vjhv",
        "colab": {
          "base_uri": "https://localhost:8080/"
        },
        "outputId": "85726e32-b670-43f0-8779-3f3785e767f7"
      },
      "source": [
        "\n",
        "import os\n",
        "#use gdown to upload data here"
      ],
      "execution_count": null,
      "outputs": [
        {
          "output_type": "stream",
          "text": [
            "Downloading...\n",
            "From: https://drive.google.com/uc?id=1NjpECBJcVdSxhY8EQ83KgCb-f2WheX5V\n",
            "To: /content/wellF.zip\n",
            "155MB [00:01, 147MB/s]\n"
          ],
          "name": "stdout"
        }
      ]
    },
    {
      "cell_type": "code",
      "metadata": {
        "id": "VdMwugA9WPci"
      },
      "source": [
        "# 00d02be79f49_TGS.las  USF\n",
        "# ae16a9f64878_TGS.las  DP SFL \n",
        "# 94c1f5cae85c_TGS.las  BE\n",
        "# ed48bda2217f_TGS.las  MD\n",
        "# 20372701d5e2_TGS.las  DEC IN BE DP\n",
        "# 0a7822c59487_TGS.las  IN BE SH MD \n"
      ],
      "execution_count": null,
      "outputs": []
    }
  ]
}